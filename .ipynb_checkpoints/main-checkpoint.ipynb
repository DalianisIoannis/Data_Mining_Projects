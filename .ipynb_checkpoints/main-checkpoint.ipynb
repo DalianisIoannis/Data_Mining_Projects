{
 "cells": [
  {
   "cell_type": "markdown",
   "metadata": {},
   "source": [
    "# Γιάννης Δαλιάνης 1115201700027"
   ]
  },
  {
   "cell_type": "markdown",
   "metadata": {},
   "source": [
    "Imports."
   ]
  },
  {
   "cell_type": "code",
   "execution_count": 1,
   "metadata": {},
   "outputs": [],
   "source": [
    "import csv\n",
    "import pandas as pd\n",
    "import re\n",
    "import numpy as np\n",
    "from collections import Counter\n",
    "from matplotlib import pyplot as plt\n",
    "\n",
    "from textblob import TextBlob\n",
    "\n",
    "from sklearn.preprocessing import LabelEncoder\n",
    "from sklearn.feature_extraction.text import TfidfTransformer, TfidfVectorizer, CountVectorizer\n",
    "from sklearn import naive_bayes\n",
    "from sklearn.metrics import classification_report, accuracy_score, recall_score, precision_score, f1_score\n",
    "from sklearn.model_selection import cross_val_score\n",
    "from sklearn.svm import SVC\n",
    "from sklearn.ensemble import RandomForestClassifier\n",
    "from sklearn.decomposition import PCA, FastICA, TruncatedSVD\n",
    "from sklearn.pipeline import Pipeline\n",
    "from sklearn_pandas import DataFrameMapper\n",
    "\n",
    "import nltk\n",
    "from nltk.stem.snowball import SnowballStemmer\n",
    "from nltk.corpus import stopwords, words\n",
    "from nltk.tokenize import WhitespaceTokenizer\n",
    "from nltk.stem import WordNetLemmatizer\n",
    "from nltk import word_tokenize, pos_tag, pos_tag_sents, WordPunctTokenizer\n",
    "\n",
    "import warnings\n",
    "warnings.filterwarnings('ignore')"
   ]
  },
  {
   "cell_type": "markdown",
   "metadata": {},
   "source": [
    "Read csv files and remove Usage and Date columns."
   ]
  },
  {
   "cell_type": "code",
   "execution_count": 2,
   "metadata": {},
   "outputs": [],
   "source": [
    "VerificationLabels = pd.read_csv('./data/impermium_verification_labels.csv')\n",
    "VerificationSet = pd.read_csv('./data/impermium_verification_set.csv')\n",
    "train = pd.read_csv('./data/train.csv')\n",
    "\n",
    "VerificationLabels = VerificationLabels.drop(columns='Usage')\n",
    "VerificationLabels = VerificationLabels.drop(columns='Date')\n",
    "VerificationSet = VerificationSet.drop(columns='Usage')\n",
    "VerificationSet = VerificationSet.drop(columns='Date')\n",
    "train = train.drop(columns='Date')"
   ]
  },
  {
   "cell_type": "markdown",
   "metadata": {},
   "source": [
    "Lower all characters, convert insult labels to int and remove empty rows."
   ]
  },
  {
   "cell_type": "code",
   "execution_count": 3,
   "metadata": {},
   "outputs": [],
   "source": [
    "VerificationLabels = VerificationLabels.apply(lambda x: x.astype(str).str.lower())\n",
    "VerificationSet = VerificationSet.apply(lambda x: x.astype(str).str.lower())\n",
    "train = train.apply(lambda x: x.astype(str).str.lower())\n",
    "\n",
    "VerificationLabels['Insult'] = VerificationLabels['Insult'].astype(int)\n",
    "train['Insult'] = train['Insult'].astype(int)"
   ]
  },
  {
   "cell_type": "markdown",
   "metadata": {},
   "source": [
    "Clean Comment Columns and remove empty Comment Rows."
   ]
  },
  {
   "cell_type": "code",
   "execution_count": 4,
   "metadata": {},
   "outputs": [],
   "source": [
    "def cleanText(text):\n",
    "    # remove hashtags and mentions\n",
    "    text = text.str.replace(r'#.*?(?=\\s|$)', '')\n",
    "    text = text.str.replace(r'@.*?(?=\\s|$)', '')\n",
    "\n",
    "    # remove urls\n",
    "    text = text.replace(r'http\\S+', '', regex=True).replace(r'www\\S+', '', regex=True)\n",
    "    text = text.apply(lambda x: re.split('https:\\/\\/.*', str(x))[0])\n",
    "\n",
    "    # remove newlines and other special characters\n",
    "    text = text.replace(r'\\\\n',' ', regex=True)\n",
    "    text = text.replace(r'\\\\u',' ', regex=True)\n",
    "    text = text.replace(r'\\\\x',' ', regex=True)\n",
    "\n",
    "    # remove all numbers\n",
    "    text = text.str.replace('\\d+', '')\n",
    "\n",
    "    # remove words with 2 or 1 letter only\n",
    "    text = text.str.replace(r'\\b(\\w{1,2})\\b', '')\n",
    "\n",
    "    # remove punctuations\n",
    "    text = text.str.replace('[^\\w\\s]','')\n",
    "\n",
    "    # replace multiple whitespaces\n",
    "    text = text.apply(lambda x: re.sub(' +', ' ', x))\n",
    "\n",
    "#     # remove non english words\n",
    "#     words = set(words.words())\n",
    "#     text = text.apply(lambda x: ' '.join([w for w in nltk.wordpunct_tokenize(x) if w.lower() in words or not w.isalpha()]))\n",
    " \n",
    "    return text\n",
    "\n",
    "train['Comment'] = cleanText(train['Comment'])\n",
    "VerificationLabels['Comment'] = cleanText(VerificationLabels['Comment'])\n",
    "VerificationSet['Comment'] = cleanText(VerificationSet['Comment'])\n",
    "\n",
    "nan_value = float(\"NaN\")\n",
    "train['Comment'].replace(\"\", nan_value, inplace=True)\n",
    "VerificationSet['Comment'].replace(\"\", nan_value, inplace=True)\n",
    "VerificationLabels['Comment'].replace(\"\", nan_value, inplace=True)\n",
    "\n",
    "train.dropna(subset=['Comment'], inplace=True)\n",
    "VerificationSet.dropna(subset=['Comment'], inplace=True)\n",
    "VerificationLabels.dropna(subset=['Comment'], inplace=True)\n",
    "\n",
    "# train.to_csv('./madeNew/trainCleaned.tsv', sep='\\t', index=False)\n",
    "# VerificationLabels.to_csv('./madeNew/VerificationLabelsCleaned.tsv', sep='\\t', index=False)\n",
    "# VerificationSet.to_csv('./madeNew/VerificationSetCleaned.tsv', sep='\\t', index=False)"
   ]
  },
  {
   "cell_type": "markdown",
   "metadata": {},
   "source": [
    "Function that separates Train and Test Data and Encodes Labels."
   ]
  },
  {
   "cell_type": "code",
   "execution_count": 5,
   "metadata": {},
   "outputs": [],
   "source": [
    "def MakeSets(trainText, trainLabels, testText, testLabels):\n",
    "    Train_X = trainText\n",
    "    Train_Y = trainLabels\n",
    "    \n",
    "    Test_X = testText\n",
    "    Test_Y = testLabels\n",
    "    \n",
    "    Encoder = LabelEncoder()\n",
    "    Train_Y = Encoder.fit_transform(Train_Y)\n",
    "    Test_Y = Encoder.fit_transform(Test_Y)\n",
    "    \n",
    "    return Train_X, Train_Y, Test_X, Test_Y\n",
    "\n",
    "Train_X, Train_Y, Test_X, Test_Y = MakeSets(train['Comment'], train['Insult'], VerificationSet['Comment'], VerificationLabels['Insult'])"
   ]
  },
  {
   "cell_type": "markdown",
   "metadata": {},
   "source": [
    "Count vectorizer for Naive Bayes."
   ]
  },
  {
   "cell_type": "code",
   "execution_count": 6,
   "metadata": {},
   "outputs": [],
   "source": [
    "train_to_list = np.array(Train_X.values.tolist())\n",
    "\n",
    "BoWvect = CountVectorizer(ngram_range=(1, 1))\n",
    "bow_xtrain = BoWvect.fit_transform(train_to_list)\n",
    "bow_xtest = BoWvect.transform(Test_X)"
   ]
  },
  {
   "cell_type": "markdown",
   "metadata": {},
   "source": [
    "## Naive Bayes with and without Laplace Smoothing, SVM and RDF functions."
   ]
  },
  {
   "cell_type": "code",
   "execution_count": 7,
   "metadata": {},
   "outputs": [],
   "source": [
    "def NaiveFun(trainX , trainY, testX, testY):\n",
    "    Naive = naive_bayes.GaussianNB()\n",
    "    Naive.fit(trainX.toarray(), trainY)\n",
    "    predictions_NB = Naive.predict(testX.toarray())\n",
    "\n",
    "    print(\"Naive Bayes Accuracy Score -> \",accuracy_score(predictions_NB, testY)*100)\n",
    "    print(\"Naive Bayes F1-Score -> \",f1_score(predictions_NB, testY, average='macro')*100)\n",
    "    \n",
    "def NaiveFunLaplaceSmoothing(trainX , trainY, testX, testY):\n",
    "    Naive = naive_bayes.MultinomialNB(alpha = 1.0000000000000001e-10)\n",
    "    \n",
    "    Naive.fit(trainX, trainY)\n",
    "    predictions_NB = Naive.predict(testX)\n",
    "\n",
    "    print(\"Naive Bayes Accuracy Score -> \",accuracy_score(predictions_NB, testY)*100)\n",
    "    print(\"Naive Bayes F1-Score -> \",f1_score(predictions_NB, testY, average='macro')*100)\n",
    "\n",
    "def SVMex(trainX, trainY, testX, testY):\n",
    "    SVM = SVC(C=1.0, kernel='linear', degree=3, gamma=0.1, probability=True)\n",
    "    SVM.fit(trainX, trainY)\n",
    "    predictions_SVM = SVM.predict(testX)\n",
    "    \n",
    "    print(\"SVM Accuracy Score -> \",accuracy_score(predictions_SVM, testY)*100)\n",
    "    print(\"SVM F1-Score -> \",f1_score(predictions_SVM, testY, average='macro')*100)\n",
    "\n",
    "def RandomF(trainX, trainY, testX, testY, Test_Y_Random_Forests):\n",
    "    rf = RandomForestClassifier(n_estimators=50, bootstrap = True, max_features = 'sqrt')\n",
    "    rf.fit(trainX, trainY)\n",
    "    predictions = rf.predict(testX)\n",
    "\n",
    "    print(\"RDF Accuracy Score -> \",accuracy_score(predictions, testY)*100)\n",
    "    print(\"RDF F1-Score -> \",f1_score(predictions, testY, average='macro')*100)\n",
    "    \n",
    "    fig = plt.figure(figsize=[15,10])\n",
    "    # Plot the actual values\n",
    "    plt.plot(testY[:100], 'b-', label = 'actual')\n",
    "    # Plot the predicted values\n",
    "    plt.plot(predictions[:100], 'ro', label = 'prediction')\n",
    "    plt.xticks(rotation = '60'); \n",
    "    plt.legend()\n",
    "    plt.title('Actual and Predicted Values on a sample of 100 Strings.');"
   ]
  },
  {
   "cell_type": "markdown",
   "metadata": {},
   "source": [
    "## Naive Bayes."
   ]
  },
  {
   "cell_type": "code",
   "execution_count": 8,
   "metadata": {},
   "outputs": [
    {
     "name": "stdout",
     "output_type": "stream",
     "text": [
      "Naive Bayes Accuracy Score ->  51.991051454138706\n",
      "Naive Bayes F1-Score ->  51.99009033807963\n"
     ]
    }
   ],
   "source": [
    "NaiveFun(bow_xtrain, Train_Y, bow_xtest, Test_Y)"
   ]
  },
  {
   "cell_type": "markdown",
   "metadata": {},
   "source": [
    "Χαμηλό σκορ επειδή οι περισσότερες προσβολές στην καθημερινή ζωή δεν είναι μόνο μία λέξη από μόνη της, οπότε εφόσον δε δίνουμε σα παράμετρο να υπολογιστούν οι λέξεις σε ζεύγη που εμφανίζονται, πολλά προσβλητικά περιεχόμενα δεν αξιολογούνται σωστά. Επίσης κάποια train δεδομένα δεν είναι σωστά αξιολογημένα όπως έχουν δοθεί."
   ]
  },
  {
   "cell_type": "markdown",
   "metadata": {},
   "source": [
    "## Optimize Naive Bayes."
   ]
  },
  {
   "cell_type": "markdown",
   "metadata": {},
   "source": [
    "Lemmatization."
   ]
  },
  {
   "cell_type": "code",
   "execution_count": 9,
   "metadata": {},
   "outputs": [
    {
     "name": "stdout",
     "output_type": "stream",
     "text": [
      "Naive Bayes Accuracy Score ->  50.82774049217002\n",
      "Naive Bayes F1-Score ->  50.740606077865166\n"
     ]
    }
   ],
   "source": [
    "w_tokenizer = WhitespaceTokenizer()\n",
    "lemmatizer = WordNetLemmatizer()\n",
    "\n",
    "def lemmatize_text(text):\n",
    "    return [lemmatizer.lemmatize(w,'v') for w in w_tokenizer.tokenize(text)]\n",
    "\n",
    "tmpTrain = train\n",
    "tmpTrain['Lemmatization'] = tmpTrain.Comment.apply(lemmatize_text)\n",
    "tmpTrain['Lemmatization'] = tmpTrain['Lemmatization'].apply(lambda x: ' '.join(x))\n",
    "\n",
    "tmpVerification = VerificationLabels\n",
    "tmpVerification['Lemmatization'] = tmpVerification.Comment.apply(lemmatize_text)\n",
    "tmpVerification['Lemmatization'] = tmpVerification['Lemmatization'].apply(lambda x: ' '.join(x))\n",
    "\n",
    "Train_X, Train_Y, Test_X, Test_Y = MakeSets(tmpTrain['Lemmatization'], tmpTrain['Insult'], tmpVerification['Lemmatization'], tmpVerification['Insult'])\n",
    "\n",
    "train_to_list = np.array(Train_X.values.tolist())\n",
    "\n",
    "BoWvect = CountVectorizer(ngram_range=(1, 1))\n",
    "bow_xtrain = BoWvect.fit_transform(train_to_list)\n",
    "bow_xtest = BoWvect.transform(Test_X)\n",
    "\n",
    "NaiveFun(bow_xtrain, Train_Y, bow_xtest, Test_Y)"
   ]
  },
  {
   "cell_type": "markdown",
   "metadata": {},
   "source": [
    "Το σκορ είναι ελάχιστα χειρότερο από πριν καθώς οι αλλαγές που πραγματοποιούνται στις λέξεις είναι πολύ μικρές και δε κάνουν διαφορά στο classification, ίσα ίσα επιδεινώνουν το αποτέλεσμα."
   ]
  },
  {
   "cell_type": "markdown",
   "metadata": {},
   "source": [
    "Remove stop words."
   ]
  },
  {
   "cell_type": "code",
   "execution_count": 10,
   "metadata": {},
   "outputs": [
    {
     "name": "stdout",
     "output_type": "stream",
     "text": [
      "Naive Bayes Accuracy Score ->  51.72259507829977\n",
      "Naive Bayes F1-Score ->  51.72244044243194\n"
     ]
    }
   ],
   "source": [
    "stop = stopwords.words('english')\n",
    "tmpTrain['RemStopWords'] = tmpTrain.Comment.apply(lambda x: ' '.join([word for word in x.split() if word not in (stop)]))\n",
    "tmpVerification['RemStopWords'] = tmpVerification.Comment.apply(lambda x: ' '.join([word for word in x.split() if word not in (stop)]))\n",
    "\n",
    "Train_X, Train_Y, Test_X, Test_Y = MakeSets(tmpTrain['RemStopWords'], tmpTrain['Insult'], tmpVerification['RemStopWords'], tmpVerification['Insult'])\n",
    "\n",
    "train_to_list = np.array(Train_X.values.tolist())\n",
    "\n",
    "BoWvect = CountVectorizer(ngram_range=(1, 1))\n",
    "bow_xtrain = BoWvect.fit_transform(train_to_list)\n",
    "bow_xtest = BoWvect.transform(Test_X)\n",
    "\n",
    "NaiveFun(bow_xtrain, Train_Y, bow_xtest, Test_Y)"
   ]
  },
  {
   "cell_type": "markdown",
   "metadata": {},
   "source": [
    "Τα stopwords φαίνεται ότι είχαν πού μικρό αντίκτυπο στο σκορ και η αφαίρεσή τους δεν έκανε σχεδόν καμία διαφορά."
   ]
  },
  {
   "cell_type": "markdown",
   "metadata": {},
   "source": [
    "Use bigrams."
   ]
  },
  {
   "cell_type": "code",
   "execution_count": 11,
   "metadata": {},
   "outputs": [
    {
     "name": "stdout",
     "output_type": "stream",
     "text": [
      "Naive Bayes Accuracy Score ->  55.57046979865772\n",
      "Naive Bayes F1-Score ->  55.56691175366504\n"
     ]
    }
   ],
   "source": [
    "Train_X, Train_Y, Test_X, Test_Y = MakeSets(tmpTrain['Comment'], tmpTrain['Insult'], tmpVerification['Comment'], tmpVerification['Insult'])\n",
    "\n",
    "train_to_list = np.array(Train_X.values.tolist())\n",
    "\n",
    "BoWvect = CountVectorizer(ngram_range=(2, 2))\n",
    "bow_xtrain = BoWvect.fit_transform(train_to_list)\n",
    "bow_xtest = BoWvect.transform(Test_X)\n",
    "\n",
    "NaiveFun(bow_xtrain, Train_Y, bow_xtest, Test_Y)"
   ]
  },
  {
   "cell_type": "markdown",
   "metadata": {},
   "source": [
    "Βελτιώνεται το σκορ καθώς ταξινομούμε τις λέξεις σε ζεύγη και έτσι καταγράφουμε με καλύτερη απόδοση κάποιες συχνές προσβλητικές εκφράσεις."
   ]
  },
  {
   "cell_type": "markdown",
   "metadata": {},
   "source": [
    "Use Laplace Smoothing."
   ]
  },
  {
   "cell_type": "code",
   "execution_count": 12,
   "metadata": {},
   "outputs": [
    {
     "name": "stdout",
     "output_type": "stream",
     "text": [
      "Naive Bayes Accuracy Score ->  58.70246085011186\n",
      "Naive Bayes F1-Score ->  58.20431554743421\n"
     ]
    }
   ],
   "source": [
    "Train_X, Train_Y, Test_X, Test_Y = MakeSets(tmpTrain['Comment'], tmpTrain['Insult'], tmpVerification['Comment'], tmpVerification['Insult'])\n",
    "\n",
    "train_to_list = np.array(Train_X.values.tolist())\n",
    "\n",
    "BoWvect = CountVectorizer()\n",
    "bow_xtrain = BoWvect.fit_transform(train_to_list)\n",
    "bow_xtest = BoWvect.transform(Test_X)\n",
    "\n",
    "NaiveFunLaplaceSmoothing(bow_xtrain, Train_Y, bow_xtest, Test_Y)"
   ]
  },
  {
   "cell_type": "markdown",
   "metadata": {},
   "source": [
    "Με τη μέθοδο Laplace Smoothing αντιμετωπίζουμε το zero probability problem, δηλαδή την ύπαρξη μηδενικών πιθανοτήτων. Για παράδειγμα μπορεί μια συγκεκριμένη λέξη στο train set μας να συναντιέται μόνο σε προσβλητικές προτάσεις. Αυτό όμως δε σημαίνει ότι όποια πρόταση την περιέχει είναι εξ' ορισμού προσβλητική."
   ]
  },
  {
   "cell_type": "markdown",
   "metadata": {},
   "source": [
    "All technics together."
   ]
  },
  {
   "cell_type": "code",
   "execution_count": 13,
   "metadata": {},
   "outputs": [
    {
     "name": "stdout",
     "output_type": "stream",
     "text": [
      "Naive Bayes Accuracy Score ->  58.61297539149888\n",
      "Naive Bayes F1-Score ->  53.57894829022107\n"
     ]
    }
   ],
   "source": [
    "tmpTrain['AllTog'] = tmpTrain.Comment.apply(lemmatize_text)\n",
    "tmpTrain['AllTog'] = tmpTrain['AllTog'].apply(lambda x: ' '.join(x))\n",
    "\n",
    "tmpVerification['AllTog'] = tmpVerification.Comment.apply(lemmatize_text)\n",
    "tmpVerification['AllTog'] = tmpVerification['AllTog'].apply(lambda x: ' '.join(x))\n",
    "\n",
    "stop = stopwords.words('english')\n",
    "tmpTrain['AllTog'] = tmpTrain.AllTog.apply(lambda x: ' '.join([word for word in x.split() if word not in (stop)]))\n",
    "tmpVerification['AllTog'] = tmpVerification.AllTog.apply(lambda x: ' '.join([word for word in x.split() if word not in (stop)]))\n",
    "\n",
    "Train_X, Train_Y, Test_X, Test_Y = MakeSets(tmpTrain['AllTog'], tmpTrain['Insult'], tmpVerification['AllTog'], tmpVerification['Insult'])\n",
    "\n",
    "train_to_list = np.array(Train_X.values.tolist())\n",
    "\n",
    "BoWvect = CountVectorizer(ngram_range=(2, 2))\n",
    "bow_xtrain = BoWvect.fit_transform(train_to_list)\n",
    "bow_xtest = BoWvect.transform(Test_X)\n",
    "\n",
    "NaiveFunLaplaceSmoothing(bow_xtrain, Train_Y, bow_xtest, Test_Y)"
   ]
  },
  {
   "cell_type": "markdown",
   "metadata": {},
   "source": [
    "## Optimize Naive Bayes with uni-bi-trigrams and Stemming."
   ]
  },
  {
   "cell_type": "code",
   "execution_count": 14,
   "metadata": {},
   "outputs": [
    {
     "name": "stdout",
     "output_type": "stream",
     "text": [
      "Naive Bayes Accuracy Score ->  63.2662192393736\n",
      "Naive Bayes F1-Score ->  61.626536221545905\n"
     ]
    }
   ],
   "source": [
    "tmpTrain['Opt'] = tmpTrain.Comment.apply(lemmatize_text)\n",
    "tmpTrain['Opt'] = tmpTrain['Opt'].apply(lambda x: ' '.join(x))\n",
    "\n",
    "tmpVerification['Opt'] = tmpVerification.Comment.apply(lemmatize_text)\n",
    "tmpVerification['Opt'] = tmpVerification['Opt'].apply(lambda x: ' '.join(x))\n",
    "\n",
    "stop = stopwords.words('english')\n",
    "tmpTrain['Opt'] = tmpTrain.Opt.apply(lambda x: ' '.join([word for word in x.split() if word not in (stop)]))\n",
    "tmpVerification['Opt'] = tmpVerification.Opt.apply(lambda x: ' '.join([word for word in x.split() if word not in (stop)]))\n",
    "\n",
    "stemmer = SnowballStemmer(\"english\")\n",
    "tmpTrain['Opt'] = tmpTrain['Opt'].apply(lambda x: [stemmer.stem(y) for y in nltk.word_tokenize(x)])\n",
    "tmpTrain['Opt'] = tmpTrain['Opt'].apply(lambda x: ' '.join(x))\n",
    "tmpVerification['Opt'] = tmpVerification['Opt'].apply(lambda x: [stemmer.stem(y) for y in nltk.word_tokenize(x)])\n",
    "tmpVerification['Opt'] = tmpVerification['Opt'].apply(lambda x: ' '.join(x))\n",
    "\n",
    "# fixing spelling takes too much time\n",
    "# tmpTrain['Opt'] = tmpTrain['Opt'].apply(lambda txt: ''.join(TextBlob(txt).correct()))\n",
    "# tmpVerification['Opt'] = tmpVerification['Opt'].apply(lambda txt: ''.join(TextBlob(txt).correct()))\n",
    "\n",
    "Train_X, Train_Y, Test_X, Test_Y = MakeSets(tmpTrain['Opt'], tmpTrain['Insult'], tmpVerification['Opt'], tmpVerification['Insult'])\n",
    "\n",
    "train_to_list = np.array(Train_X.values.tolist())\n",
    "\n",
    "BoWvect = CountVectorizer(ngram_range=(1, 3))\n",
    "bow_xtrain = BoWvect.fit_transform(train_to_list)\n",
    "bow_xtest = BoWvect.transform(Test_X)\n",
    "\n",
    "NaiveFunLaplaceSmoothing(bow_xtrain, Train_Y, bow_xtest, Test_Y)"
   ]
  },
  {
   "cell_type": "markdown",
   "metadata": {},
   "source": [
    "Συνδυάζοντας όλα τα παραπάνω με Stemming και unigrams, bigrams, trigrams πετυχαίνουμε καλύτερο σκορ."
   ]
  },
  {
   "cell_type": "markdown",
   "metadata": {},
   "source": [
    "## Make POS tags and TFIDF columns."
   ]
  },
  {
   "cell_type": "code",
   "execution_count": 15,
   "metadata": {},
   "outputs": [
    {
     "data": {
      "text/html": [
       "<div>\n",
       "<style scoped>\n",
       "    .dataframe tbody tr th:only-of-type {\n",
       "        vertical-align: middle;\n",
       "    }\n",
       "\n",
       "    .dataframe tbody tr th {\n",
       "        vertical-align: top;\n",
       "    }\n",
       "\n",
       "    .dataframe thead th {\n",
       "        text-align: right;\n",
       "    }\n",
       "</style>\n",
       "<table border=\"1\" class=\"dataframe\">\n",
       "  <thead>\n",
       "    <tr style=\"text-align: right;\">\n",
       "      <th></th>\n",
       "      <th>Insult</th>\n",
       "      <th>Comment</th>\n",
       "      <th>Lemmatization</th>\n",
       "      <th>RemStopWords</th>\n",
       "      <th>AllTog</th>\n",
       "      <th>Opt</th>\n",
       "      <th>POSTags</th>\n",
       "      <th>TFIDF</th>\n",
       "      <th>Paired</th>\n",
       "      <th>TagsOnly</th>\n",
       "    </tr>\n",
       "  </thead>\n",
       "  <tbody>\n",
       "    <tr>\n",
       "      <th>0</th>\n",
       "      <td>1</td>\n",
       "      <td>you fuck your dad</td>\n",
       "      <td>you fuck your dad</td>\n",
       "      <td>fuck dad</td>\n",
       "      <td>fuck dad</td>\n",
       "      <td>fuck dad</td>\n",
       "      <td>[(fuck, NN), (dad, NN)]</td>\n",
       "      <td>[0.0, 0.0, 0.0, 0.0, 0.0, 0.0, 0.0, 0.0, 0.0, ...</td>\n",
       "      <td>fuck_NN dad_NN</td>\n",
       "      <td>NN NN</td>\n",
       "    </tr>\n",
       "    <tr>\n",
       "      <th>1</th>\n",
       "      <td>0</td>\n",
       "      <td>really don understand your point seems that y...</td>\n",
       "      <td>really don understand your point seem that you...</td>\n",
       "      <td>really understand point seems mixing apples or...</td>\n",
       "      <td>really understand point seem mix apples oranges</td>\n",
       "      <td>realli understand point seem mix appl orang</td>\n",
       "      <td>[(realli, NN), (understand, NN), (point, NN), ...</td>\n",
       "      <td>[0.0, 0.0, 0.0, 0.0, 0.0, 0.0, 0.0, 0.0, 0.0, ...</td>\n",
       "      <td>realli_NN understand_NN point_NN seem_VBP mix_...</td>\n",
       "      <td>NN NN NN VBP JJ NN NN</td>\n",
       "    </tr>\n",
       "    <tr>\n",
       "      <th>2</th>\n",
       "      <td>0</td>\n",
       "      <td>amajority canadians can and has been wrong be...</td>\n",
       "      <td>amajority canadians can and have be wrong befo...</td>\n",
       "      <td>amajority canadians wrong unless supportive id...</td>\n",
       "      <td>amajority canadians wrong unless supportive id...</td>\n",
       "      <td>amajor canadian wrong unless support idea noth...</td>\n",
       "      <td>[(amajor, JJ), (canadian, JJ), (wrong, JJ), (u...</td>\n",
       "      <td>[0.0, 0.0, 0.0, 0.0, 0.0, 0.0, 0.0, 0.0, 0.0, ...</td>\n",
       "      <td>amajor_JJ canadian_JJ wrong_JJ unless_IN suppo...</td>\n",
       "      <td>JJ JJ JJ IN NN NN CC JJ NN JJ VB NN NN NNP NN ...</td>\n",
       "    </tr>\n",
       "    <tr>\n",
       "      <th>3</th>\n",
       "      <td>0</td>\n",
       "      <td>listen you dont wanna get married man women do...</td>\n",
       "      <td>listen you dont wanna get marry man women dont...</td>\n",
       "      <td>listen dont wanna get married man women dont w...</td>\n",
       "      <td>listen dont wanna get marry man women dont wou...</td>\n",
       "      <td>listen dont wan na get marri man women dont wo...</td>\n",
       "      <td>[(listen, JJ), (dont, NN), (wan, NN), (na, TO)...</td>\n",
       "      <td>[0.0, 0.0, 0.0, 0.0, 0.0, 0.0, 0.0, 0.0, 0.0, ...</td>\n",
       "      <td>listen_JJ dont_NN wan_NN na_TO get_VB marri_JJ...</td>\n",
       "      <td>JJ NN NN TO VB JJ NN NNS RB MD VB NN NN VBP JJ...</td>\n",
       "    </tr>\n",
       "    <tr>\n",
       "      <th>4</th>\n",
       "      <td>0</td>\n",
       "      <td>ean edng eddng ecu ecnh fng edi eau chi eec f...</td>\n",
       "      <td>ean edng eddng ecu ecnh fng edi eau chi eec fn...</td>\n",
       "      <td>ean edng eddng ecu ecnh fng edi eau chi eec fn...</td>\n",
       "      <td>ean edng eddng ecu ecnh fng edi eau chi eec fn...</td>\n",
       "      <td>ean edng eddng ecu ecnh fng edi eau chi eec fn...</td>\n",
       "      <td>[(ean, JJ), (edng, NN), (eddng, NN), (ecu, NN)...</td>\n",
       "      <td>[0.0, 0.0, 0.0, 0.0, 0.0, 0.0, 0.0, 0.0, 0.0, ...</td>\n",
       "      <td>ean_JJ edng_NN eddng_NN ecu_NN ecnh_NN fng_NN ...</td>\n",
       "      <td>JJ NN NN NN NN NN NN NN NN FW NN NN NN NN NN N...</td>\n",
       "    </tr>\n",
       "  </tbody>\n",
       "</table>\n",
       "</div>"
      ],
      "text/plain": [
       "   Insult                                            Comment  \\\n",
       "0       1                                  you fuck your dad   \n",
       "1       0   really don understand your point seems that y...   \n",
       "2       0   amajority canadians can and has been wrong be...   \n",
       "3       0  listen you dont wanna get married man women do...   \n",
       "4       0   ean edng eddng ecu ecnh fng edi eau chi eec f...   \n",
       "\n",
       "                                       Lemmatization  \\\n",
       "0                                  you fuck your dad   \n",
       "1  really don understand your point seem that you...   \n",
       "2  amajority canadians can and have be wrong befo...   \n",
       "3  listen you dont wanna get marry man women dont...   \n",
       "4  ean edng eddng ecu ecnh fng edi eau chi eec fn...   \n",
       "\n",
       "                                        RemStopWords  \\\n",
       "0                                           fuck dad   \n",
       "1  really understand point seems mixing apples or...   \n",
       "2  amajority canadians wrong unless supportive id...   \n",
       "3  listen dont wanna get married man women dont w...   \n",
       "4  ean edng eddng ecu ecnh fng edi eau chi eec fn...   \n",
       "\n",
       "                                              AllTog  \\\n",
       "0                                           fuck dad   \n",
       "1    really understand point seem mix apples oranges   \n",
       "2  amajority canadians wrong unless supportive id...   \n",
       "3  listen dont wanna get marry man women dont wou...   \n",
       "4  ean edng eddng ecu ecnh fng edi eau chi eec fn...   \n",
       "\n",
       "                                                 Opt  \\\n",
       "0                                           fuck dad   \n",
       "1        realli understand point seem mix appl orang   \n",
       "2  amajor canadian wrong unless support idea noth...   \n",
       "3  listen dont wan na get marri man women dont wo...   \n",
       "4  ean edng eddng ecu ecnh fng edi eau chi eec fn...   \n",
       "\n",
       "                                             POSTags  \\\n",
       "0                            [(fuck, NN), (dad, NN)]   \n",
       "1  [(realli, NN), (understand, NN), (point, NN), ...   \n",
       "2  [(amajor, JJ), (canadian, JJ), (wrong, JJ), (u...   \n",
       "3  [(listen, JJ), (dont, NN), (wan, NN), (na, TO)...   \n",
       "4  [(ean, JJ), (edng, NN), (eddng, NN), (ecu, NN)...   \n",
       "\n",
       "                                               TFIDF  \\\n",
       "0  [0.0, 0.0, 0.0, 0.0, 0.0, 0.0, 0.0, 0.0, 0.0, ...   \n",
       "1  [0.0, 0.0, 0.0, 0.0, 0.0, 0.0, 0.0, 0.0, 0.0, ...   \n",
       "2  [0.0, 0.0, 0.0, 0.0, 0.0, 0.0, 0.0, 0.0, 0.0, ...   \n",
       "3  [0.0, 0.0, 0.0, 0.0, 0.0, 0.0, 0.0, 0.0, 0.0, ...   \n",
       "4  [0.0, 0.0, 0.0, 0.0, 0.0, 0.0, 0.0, 0.0, 0.0, ...   \n",
       "\n",
       "                                              Paired  \\\n",
       "0                                     fuck_NN dad_NN   \n",
       "1  realli_NN understand_NN point_NN seem_VBP mix_...   \n",
       "2  amajor_JJ canadian_JJ wrong_JJ unless_IN suppo...   \n",
       "3  listen_JJ dont_NN wan_NN na_TO get_VB marri_JJ...   \n",
       "4  ean_JJ edng_NN eddng_NN ecu_NN ecnh_NN fng_NN ...   \n",
       "\n",
       "                                            TagsOnly  \n",
       "0                                              NN NN  \n",
       "1                              NN NN NN VBP JJ NN NN  \n",
       "2  JJ JJ JJ IN NN NN CC JJ NN JJ VB NN NN NNP NN ...  \n",
       "3  JJ NN NN TO VB JJ NN NNS RB MD VB NN NN VBP JJ...  \n",
       "4  JJ NN NN NN NN NN NN NN NN FW NN NN NN NN NN N...  "
      ]
     },
     "execution_count": 15,
     "metadata": {},
     "output_type": "execute_result"
    }
   ],
   "source": [
    "tmpTrain['POSTags'] = pos_tag_sents(tmpTrain['Opt'].apply(word_tokenize).tolist()) # pos_tag\n",
    "tmpVerification['POSTags'] = pos_tag_sents(tmpVerification['Opt'].apply(word_tokenize).tolist()) # pos_tag\n",
    "\n",
    "Tfidf_vect = TfidfVectorizer(min_df = 5, max_df = 0.95, max_features = 8000, stop_words = 'english')\n",
    "Tfidf_vect.fit(tmpTrain['Opt'])\n",
    "\n",
    "tmpTrain['TFIDF'] = list(Tfidf_vect.transform(tmpTrain['Opt']).toarray())\n",
    "\n",
    "tmpVerification['TFIDF'] = list(Tfidf_vect.transform(tmpVerification['Opt']).toarray())\n",
    "\n",
    "wpt = WordPunctTokenizer()\n",
    "def PairWordsWithPOStags(text):\n",
    "    textTok = wpt.tokenize(str(text))\n",
    "    text_tagged = pos_tag(textTok)\n",
    "    new_text = []\n",
    "    for word in text_tagged:\n",
    "        new_text.append(word[0] + \"_\" + word[1])\n",
    "    doc = ' '.join(new_text)\n",
    "    return doc\n",
    "\n",
    "def POStagsOnly(text):\n",
    "    textTok = wpt.tokenize(str(text))\n",
    "    text_tagged = pos_tag(textTok)\n",
    "    new_text = []\n",
    "    for word in text_tagged:\n",
    "        new_text.append(word[1])\n",
    "    doc = ' '.join(new_text)\n",
    "    return doc\n",
    "\n",
    "tmpTrain[\"Paired\"] = tmpTrain['Opt'].apply(PairWordsWithPOStags)\n",
    "tmpVerification[\"Paired\"] = tmpVerification['Opt'].apply(PairWordsWithPOStags)\n",
    "\n",
    "tmpTrain[\"TagsOnly\"] = tmpTrain['Opt'].apply(POStagsOnly)\n",
    "tmpVerification[\"TagsOnly\"] = tmpVerification['Opt'].apply(POStagsOnly)\n",
    "\n",
    "tmpTrain.head()"
   ]
  },
  {
   "cell_type": "markdown",
   "metadata": {},
   "source": [
    "Φτιάχνουμε τη στήλη με το TFIDF σκορ, μια στήλη με τα POS tags, την στήλη Paired που κάνει concat κάθε λέξη με το Tag της και τη στήλη TagsOnly που περιέχει σα strings μόνο τα Tags της κάθε πρότασης."
   ]
  },
  {
   "cell_type": "markdown",
   "metadata": {},
   "source": [
    "Πρώτα εκτελούμε SVM και RDF μόνο στα TFIDF scores και στα Paired σχόλια."
   ]
  },
  {
   "cell_type": "markdown",
   "metadata": {},
   "source": [
    "SVM on POS-Paired comments."
   ]
  },
  {
   "cell_type": "code",
   "execution_count": 16,
   "metadata": {},
   "outputs": [
    {
     "name": "stdout",
     "output_type": "stream",
     "text": [
      "SVM Accuracy Score ->  67.91946308724832\n",
      "SVM F1-Score ->  65.1884964620323\n"
     ]
    }
   ],
   "source": [
    "Train_X, Train_Y, Test_X, Test_Y = MakeSets(tmpTrain['Paired'], tmpTrain['Insult'], tmpVerification['Paired'], tmpVerification['Insult'])\n",
    "\n",
    "train_to_list = np.array(Train_X.values.tolist())\n",
    "\n",
    "BoWvect = CountVectorizer(ngram_range=(1, 3))\n",
    "\n",
    "bow_xtrain = BoWvect.fit_transform(train_to_list)\n",
    "bow_xtest = BoWvect.transform(Test_X)\n",
    "\n",
    "Test_Y_Random_Forests = tmpVerification['Insult']\n",
    "SVMex(bow_xtrain, Train_Y, bow_xtest, Test_Y)"
   ]
  },
  {
   "cell_type": "markdown",
   "metadata": {},
   "source": [
    "SVM on TFIDF."
   ]
  },
  {
   "cell_type": "code",
   "execution_count": 17,
   "metadata": {},
   "outputs": [
    {
     "name": "stdout",
     "output_type": "stream",
     "text": [
      "SVM Accuracy Score ->  68.50111856823267\n",
      "SVM F1-Score ->  65.73519163763066\n"
     ]
    }
   ],
   "source": [
    "Train_X_Tfidf = tmpTrain['TFIDF'].tolist()\n",
    "Test_X_Tfidf = tmpVerification['TFIDF'].tolist()\n",
    "\n",
    "SVMex(Train_X_Tfidf, Train_Y, Test_X_Tfidf, Test_Y)"
   ]
  },
  {
   "cell_type": "markdown",
   "metadata": {},
   "source": [
    "RDF on POS-Paired comments."
   ]
  },
  {
   "cell_type": "code",
   "execution_count": 18,
   "metadata": {},
   "outputs": [
    {
     "name": "stdout",
     "output_type": "stream",
     "text": [
      "RDF Accuracy Score ->  64.7427293064877\n",
      "RDF F1-Score ->  60.69791231509153\n"
     ]
    },
    {
     "data": {
      "image/png": "[encoded data removed]",
      "text/plain": [
       "<Figure size 1080x720 with 1 Axes>"
      ]
     },
     "metadata": {
      "needs_background": "light"
     },
     "output_type": "display_data"
    }
   ],
   "source": [
    "RandomF(bow_xtrain, Train_Y, bow_xtest, Test_Y, Test_Y_Random_Forests)"
   ]
  },
  {
   "cell_type": "markdown",
   "metadata": {},
   "source": [
    "RDF on TFIDF."
   ]
  },
  {
   "cell_type": "code",
   "execution_count": 19,
   "metadata": {},
   "outputs": [
    {
     "name": "stdout",
     "output_type": "stream",
     "text": [
      "RDF Accuracy Score ->  66.48769574944072\n",
      "RDF F1-Score ->  63.80947089444935\n"
     ]
    },
    {
     "data": {
      "image/png": "[encoded data removed]",
      "text/plain": [
       "<Figure size 1080x720 with 1 Axes>"
      ]
     },
     "metadata": {
      "needs_background": "light"
     },
     "output_type": "display_data"
    }
   ],
   "source": [
    "Train_X_Tfidf = tmpTrain['TFIDF'].tolist()\n",
    "Test_X_Tfidf = tmpVerification['TFIDF'].tolist()\n",
    "\n",
    "RandomF(Train_X_Tfidf, Train_Y, Test_X_Tfidf, Test_Y, Test_Y_Random_Forests)"
   ]
  },
  {
   "cell_type": "markdown",
   "metadata": {},
   "source": [
    "## Find POS tags and fractions."
   ]
  },
  {
   "cell_type": "code",
   "execution_count": 20,
   "metadata": {},
   "outputs": [
    {
     "data": {
      "text/html": [
       "<div>\n",
       "<style scoped>\n",
       "    .dataframe tbody tr th:only-of-type {\n",
       "        vertical-align: middle;\n",
       "    }\n",
       "\n",
       "    .dataframe tbody tr th {\n",
       "        vertical-align: top;\n",
       "    }\n",
       "\n",
       "    .dataframe thead th {\n",
       "        text-align: right;\n",
       "    }\n",
       "</style>\n",
       "<table border=\"1\" class=\"dataframe\">\n",
       "  <thead>\n",
       "    <tr style=\"text-align: right;\">\n",
       "      <th></th>\n",
       "      <th>Insult</th>\n",
       "      <th>Comment</th>\n",
       "      <th>Lemmatization</th>\n",
       "      <th>RemStopWords</th>\n",
       "      <th>AllTog</th>\n",
       "      <th>Opt</th>\n",
       "      <th>POSTags</th>\n",
       "      <th>TFIDF</th>\n",
       "      <th>Paired</th>\n",
       "      <th>TagsOnly</th>\n",
       "      <th>POSTagger</th>\n",
       "      <th>fractionAdverbs</th>\n",
       "      <th>fractionVerbs</th>\n",
       "      <th>fractionAdjectives</th>\n",
       "      <th>fractionNouns</th>\n",
       "    </tr>\n",
       "  </thead>\n",
       "  <tbody>\n",
       "    <tr>\n",
       "      <th>0</th>\n",
       "      <td>1</td>\n",
       "      <td>you fuck your dad</td>\n",
       "      <td>you fuck your dad</td>\n",
       "      <td>fuck dad</td>\n",
       "      <td>fuck dad</td>\n",
       "      <td>fuck dad</td>\n",
       "      <td>[(fuck, NN), (dad, NN)]</td>\n",
       "      <td>[0.0, 0.0, 0.0, 0.0, 0.0, 0.0, 0.0, 0.0, 0.0, ...</td>\n",
       "      <td>fuck_NN dad_NN</td>\n",
       "      <td>NN NN</td>\n",
       "      <td>{'NN': 2}</td>\n",
       "      <td>0.000000</td>\n",
       "      <td>0.000000</td>\n",
       "      <td>0.000000</td>\n",
       "      <td>100.000000</td>\n",
       "    </tr>\n",
       "    <tr>\n",
       "      <th>1</th>\n",
       "      <td>0</td>\n",
       "      <td>really don understand your point seems that y...</td>\n",
       "      <td>really don understand your point seem that you...</td>\n",
       "      <td>really understand point seems mixing apples or...</td>\n",
       "      <td>really understand point seem mix apples oranges</td>\n",
       "      <td>realli understand point seem mix appl orang</td>\n",
       "      <td>[(realli, NN), (understand, NN), (point, NN), ...</td>\n",
       "      <td>[0.0, 0.0, 0.0, 0.0, 0.0, 0.0, 0.0, 0.0, 0.0, ...</td>\n",
       "      <td>realli_NN understand_NN point_NN seem_VBP mix_...</td>\n",
       "      <td>NN NN NN VBP JJ NN NN</td>\n",
       "      <td>{'NN': 5, 'VBP': 1, 'JJ': 1}</td>\n",
       "      <td>0.000000</td>\n",
       "      <td>14.285714</td>\n",
       "      <td>14.285714</td>\n",
       "      <td>71.428571</td>\n",
       "    </tr>\n",
       "    <tr>\n",
       "      <th>2</th>\n",
       "      <td>0</td>\n",
       "      <td>amajority canadians can and has been wrong be...</td>\n",
       "      <td>amajority canadians can and have be wrong befo...</td>\n",
       "      <td>amajority canadians wrong unless supportive id...</td>\n",
       "      <td>amajority canadians wrong unless supportive id...</td>\n",
       "      <td>amajor canadian wrong unless support idea noth...</td>\n",
       "      <td>[(amajor, JJ), (canadian, JJ), (wrong, JJ), (u...</td>\n",
       "      <td>[0.0, 0.0, 0.0, 0.0, 0.0, 0.0, 0.0, 0.0, 0.0, ...</td>\n",
       "      <td>amajor_JJ canadian_JJ wrong_JJ unless_IN suppo...</td>\n",
       "      <td>JJ JJ JJ IN NN NN CC JJ NN JJ VB NN NN NNP NN ...</td>\n",
       "      <td>{'JJ': 6, 'IN': 2, 'NN': 15, 'CC': 1, 'VB': 2,...</td>\n",
       "      <td>0.000000</td>\n",
       "      <td>7.407407</td>\n",
       "      <td>22.222222</td>\n",
       "      <td>59.259259</td>\n",
       "    </tr>\n",
       "    <tr>\n",
       "      <th>3</th>\n",
       "      <td>0</td>\n",
       "      <td>listen you dont wanna get married man women do...</td>\n",
       "      <td>listen you dont wanna get marry man women dont...</td>\n",
       "      <td>listen dont wanna get married man women dont w...</td>\n",
       "      <td>listen dont wanna get marry man women dont wou...</td>\n",
       "      <td>listen dont wan na get marri man women dont wo...</td>\n",
       "      <td>[(listen, JJ), (dont, NN), (wan, NN), (na, TO)...</td>\n",
       "      <td>[0.0, 0.0, 0.0, 0.0, 0.0, 0.0, 0.0, 0.0, 0.0, ...</td>\n",
       "      <td>listen_JJ dont_NN wan_NN na_TO get_VB marri_JJ...</td>\n",
       "      <td>JJ NN NN TO VB JJ NN NNS RB MD VB NN NN VBP JJ...</td>\n",
       "      <td>{'JJ': 7, 'NN': 11, 'TO': 1, 'VB': 3, 'NNS': 1...</td>\n",
       "      <td>3.571429</td>\n",
       "      <td>17.857143</td>\n",
       "      <td>25.000000</td>\n",
       "      <td>42.857143</td>\n",
       "    </tr>\n",
       "    <tr>\n",
       "      <th>4</th>\n",
       "      <td>0</td>\n",
       "      <td>ean edng eddng ecu ecnh fng edi eau chi eec f...</td>\n",
       "      <td>ean edng eddng ecu ecnh fng edi eau chi eec fn...</td>\n",
       "      <td>ean edng eddng ecu ecnh fng edi eau chi eec fn...</td>\n",
       "      <td>ean edng eddng ecu ecnh fng edi eau chi eec fn...</td>\n",
       "      <td>ean edng eddng ecu ecnh fng edi eau chi eec fn...</td>\n",
       "      <td>[(ean, JJ), (edng, NN), (eddng, NN), (ecu, NN)...</td>\n",
       "      <td>[0.0, 0.0, 0.0, 0.0, 0.0, 0.0, 0.0, 0.0, 0.0, ...</td>\n",
       "      <td>ean_JJ edng_NN eddng_NN ecu_NN ecnh_NN fng_NN ...</td>\n",
       "      <td>JJ NN NN NN NN NN NN NN NN FW NN NN NN NN NN N...</td>\n",
       "      <td>{'JJ': 2, 'NN': 38, 'FW': 2}</td>\n",
       "      <td>0.000000</td>\n",
       "      <td>0.000000</td>\n",
       "      <td>4.761905</td>\n",
       "      <td>90.476190</td>\n",
       "    </tr>\n",
       "  </tbody>\n",
       "</table>\n",
       "</div>"
      ],
      "text/plain": [
       "   Insult                                            Comment  \\\n",
       "0       1                                  you fuck your dad   \n",
       "1       0   really don understand your point seems that y...   \n",
       "2       0   amajority canadians can and has been wrong be...   \n",
       "3       0  listen you dont wanna get married man women do...   \n",
       "4       0   ean edng eddng ecu ecnh fng edi eau chi eec f...   \n",
       "\n",
       "                                       Lemmatization  \\\n",
       "0                                  you fuck your dad   \n",
       "1  really don understand your point seem that you...   \n",
       "2  amajority canadians can and have be wrong befo...   \n",
       "3  listen you dont wanna get marry man women dont...   \n",
       "4  ean edng eddng ecu ecnh fng edi eau chi eec fn...   \n",
       "\n",
       "                                        RemStopWords  \\\n",
       "0                                           fuck dad   \n",
       "1  really understand point seems mixing apples or...   \n",
       "2  amajority canadians wrong unless supportive id...   \n",
       "3  listen dont wanna get married man women dont w...   \n",
       "4  ean edng eddng ecu ecnh fng edi eau chi eec fn...   \n",
       "\n",
       "                                              AllTog  \\\n",
       "0                                           fuck dad   \n",
       "1    really understand point seem mix apples oranges   \n",
       "2  amajority canadians wrong unless supportive id...   \n",
       "3  listen dont wanna get marry man women dont wou...   \n",
       "4  ean edng eddng ecu ecnh fng edi eau chi eec fn...   \n",
       "\n",
       "                                                 Opt  \\\n",
       "0                                           fuck dad   \n",
       "1        realli understand point seem mix appl orang   \n",
       "2  amajor canadian wrong unless support idea noth...   \n",
       "3  listen dont wan na get marri man women dont wo...   \n",
       "4  ean edng eddng ecu ecnh fng edi eau chi eec fn...   \n",
       "\n",
       "                                             POSTags  \\\n",
       "0                            [(fuck, NN), (dad, NN)]   \n",
       "1  [(realli, NN), (understand, NN), (point, NN), ...   \n",
       "2  [(amajor, JJ), (canadian, JJ), (wrong, JJ), (u...   \n",
       "3  [(listen, JJ), (dont, NN), (wan, NN), (na, TO)...   \n",
       "4  [(ean, JJ), (edng, NN), (eddng, NN), (ecu, NN)...   \n",
       "\n",
       "                                               TFIDF  \\\n",
       "0  [0.0, 0.0, 0.0, 0.0, 0.0, 0.0, 0.0, 0.0, 0.0, ...   \n",
       "1  [0.0, 0.0, 0.0, 0.0, 0.0, 0.0, 0.0, 0.0, 0.0, ...   \n",
       "2  [0.0, 0.0, 0.0, 0.0, 0.0, 0.0, 0.0, 0.0, 0.0, ...   \n",
       "3  [0.0, 0.0, 0.0, 0.0, 0.0, 0.0, 0.0, 0.0, 0.0, ...   \n",
       "4  [0.0, 0.0, 0.0, 0.0, 0.0, 0.0, 0.0, 0.0, 0.0, ...   \n",
       "\n",
       "                                              Paired  \\\n",
       "0                                     fuck_NN dad_NN   \n",
       "1  realli_NN understand_NN point_NN seem_VBP mix_...   \n",
       "2  amajor_JJ canadian_JJ wrong_JJ unless_IN suppo...   \n",
       "3  listen_JJ dont_NN wan_NN na_TO get_VB marri_JJ...   \n",
       "4  ean_JJ edng_NN eddng_NN ecu_NN ecnh_NN fng_NN ...   \n",
       "\n",
       "                                            TagsOnly  \\\n",
       "0                                              NN NN   \n",
       "1                              NN NN NN VBP JJ NN NN   \n",
       "2  JJ JJ JJ IN NN NN CC JJ NN JJ VB NN NN NNP NN ...   \n",
       "3  JJ NN NN TO VB JJ NN NNS RB MD VB NN NN VBP JJ...   \n",
       "4  JJ NN NN NN NN NN NN NN NN FW NN NN NN NN NN N...   \n",
       "\n",
       "                                           POSTagger  fractionAdverbs  \\\n",
       "0                                          {'NN': 2}         0.000000   \n",
       "1                       {'NN': 5, 'VBP': 1, 'JJ': 1}         0.000000   \n",
       "2  {'JJ': 6, 'IN': 2, 'NN': 15, 'CC': 1, 'VB': 2,...         0.000000   \n",
       "3  {'JJ': 7, 'NN': 11, 'TO': 1, 'VB': 3, 'NNS': 1...         3.571429   \n",
       "4                       {'JJ': 2, 'NN': 38, 'FW': 2}         0.000000   \n",
       "\n",
       "   fractionVerbs  fractionAdjectives  fractionNouns  \n",
       "0       0.000000            0.000000     100.000000  \n",
       "1      14.285714           14.285714      71.428571  \n",
       "2       7.407407           22.222222      59.259259  \n",
       "3      17.857143           25.000000      42.857143  \n",
       "4       0.000000            4.761905      90.476190  "
      ]
     },
     "execution_count": 20,
     "metadata": {},
     "output_type": "execute_result"
    }
   ],
   "source": [
    "def POSTagger(text):\n",
    "    lower_case = text.lower()\n",
    "    tokens = word_tokenize(lower_case)\n",
    "    tags = pos_tag(tokens)\n",
    "    counts = Counter( tag for word, tag in tags)\n",
    "    return counts\n",
    "\n",
    "def POSTaggerAdverbs(text):\n",
    "    CountAdverbs=0\n",
    "    Total=0\n",
    "    lower_case = text.lower()\n",
    "    tokens = word_tokenize(lower_case)\n",
    "    tags = pos_tag(tokens)\n",
    "    counts = Counter( tag for word, tag in tags)\n",
    "    for i, j in counts.items():\n",
    "        Total+=j\n",
    "        if(i=='RB' or i=='RBR' or i=='RBS'):\n",
    "            CountAdverbs+=j\n",
    "    if(Total!=0):\n",
    "        return ((CountAdverbs*100) / Total)\n",
    "    else:\n",
    "        return 0\n",
    "\n",
    "def POSTaggerNouns(text):\n",
    "    CountrNouns=0\n",
    "    Total=0\n",
    "    lower_case = text.lower()\n",
    "    tokens = word_tokenize(lower_case)\n",
    "    tags = pos_tag(tokens)\n",
    "    counts = Counter( tag for word, tag in tags)\n",
    "    for i, j in counts.items():\n",
    "        Total+=j\n",
    "        if(i=='NN' or i=='NNS' or i=='NNP' or i=='NNPS'):\n",
    "            CountrNouns+=j\n",
    "    if(Total!=0):\n",
    "        return ((CountrNouns*100) / Total)\n",
    "    else:\n",
    "        return 0\n",
    "\n",
    "def POSTaggerVerbs(text):\n",
    "    CountVerbs=0.0\n",
    "    Total=0\n",
    "    lower_case = text.lower()\n",
    "    tokens = word_tokenize(lower_case)\n",
    "    tags = pos_tag(tokens)\n",
    "    counts = Counter( tag for word, tag in tags)\n",
    "    for i, j in counts.items():\n",
    "        Total+=j\n",
    "        if(i=='VB' or i=='VBD' or i=='VBG' or i=='VBN' or i=='VBP' or i=='VBZ'):\n",
    "            CountVerbs+=j\n",
    "    if(Total!=0):\n",
    "        return ((CountVerbs*100) / Total)\n",
    "    else:\n",
    "        return 0\n",
    "\n",
    "def POSTaggerAdjectives(text):\n",
    "    CountAdjectives=0\n",
    "    Total=0\n",
    "    lower_case = text.lower()\n",
    "    tokens = word_tokenize(lower_case)\n",
    "    tags = pos_tag(tokens)\n",
    "    counts = Counter( tag for word, tag in tags)\n",
    "    for i, j in counts.items():\n",
    "        Total+=j\n",
    "        if(i=='JJ' or i=='JJR' or i=='JJS'):\n",
    "            CountAdjectives+=j\n",
    "    if(Total!=0):\n",
    "        return ((CountAdjectives*100) / Total)\n",
    "    else:\n",
    "        return 0\n",
    "    \n",
    "tmpTrain[\"POSTagger\"] = tmpTrain['Opt'].apply(POSTagger)\n",
    "tmpTrain['fractionAdverbs'] = tmpTrain['Opt'].apply(POSTaggerAdverbs)\n",
    "tmpTrain['fractionVerbs'] = tmpTrain['Opt'].apply(POSTaggerVerbs)\n",
    "tmpTrain['fractionAdjectives'] = tmpTrain['Opt'].apply(POSTaggerAdjectives)\n",
    "tmpTrain['fractionNouns'] = tmpTrain['Opt'].apply(POSTaggerNouns)\n",
    "\n",
    "tmpVerification[\"POSTagger\"] = tmpVerification['Opt'].apply(POSTagger)\n",
    "tmpVerification['fractionAdverbs'] = tmpVerification['Opt'].apply(POSTaggerAdverbs)\n",
    "tmpVerification['fractionVerbs'] = tmpVerification['Opt'].apply(POSTaggerVerbs)\n",
    "tmpVerification['fractionAdjectives'] = tmpVerification['Opt'].apply(POSTaggerAdjectives)\n",
    "tmpVerification['fractionNouns'] = tmpVerification['Opt'].apply(POSTaggerNouns)\n",
    "\n",
    "tmpTrain.head()"
   ]
  },
  {
   "cell_type": "markdown",
   "metadata": {},
   "source": [
    "Η στήλη POSTagger περιέχει tuples με tags και το πλήθος εμφανίσεών τους σε κάθε σχόλιο και οι στήλες fraction περιέχουν το ποσοστό κάθε μίας εκ των 4 βασικών κατηγοριών tags σε κάθε σχόλιο."
   ]
  },
  {
   "cell_type": "markdown",
   "metadata": {},
   "source": [
    "## SVM and RDF on TFIDF and POS combined."
   ]
  },
  {
   "cell_type": "markdown",
   "metadata": {},
   "source": [
    "Combine Features."
   ]
  },
  {
   "cell_type": "markdown",
   "metadata": {},
   "source": [
    "Χρησιμοποιούμε 3 στήλες των δεδομένων μας για να τις συνδυάσουμε και να κάνουμε classify τα Test δεδομένα."
   ]
  },
  {
   "cell_type": "code",
   "execution_count": 21,
   "metadata": {},
   "outputs": [],
   "source": [
    "mapper = DataFrameMapper([\n",
    "     ('Paired', CountVectorizer(ngram_range=(1, 3))),\n",
    "     ('Opt', TfidfVectorizer(min_df = 5, max_df = 0.95, max_features = 8000, stop_words = 'english')),\n",
    "     ('TagsOnly', CountVectorizer(ngram_range=(1, 3))),\n",
    "#      ('TFIDF', None)\n",
    " ])\n",
    "\n",
    "tmp_train = tmpTrain[['Opt', 'Paired', 'TFIDF', 'Insult', 'TagsOnly']]\n",
    "tmp_test = tmpVerification[['Opt', 'Paired', 'TFIDF', 'Insult', 'TagsOnly']]\n",
    "\n",
    "mapper.fit(tmp_train)\n",
    "features = mapper.transform(tmp_train)\n",
    "unknown = mapper.transform(tmp_test)"
   ]
  },
  {
   "cell_type": "markdown",
   "metadata": {},
   "source": [
    "SVM."
   ]
  },
  {
   "cell_type": "code",
   "execution_count": 22,
   "metadata": {},
   "outputs": [
    {
     "name": "stdout",
     "output_type": "stream",
     "text": [
      "SVM Accuracy Score ->  67.69574944071589\n",
      "SVM F1-Score ->  65.2671233230534\n"
     ]
    }
   ],
   "source": [
    "SVMex(features, tmp_train['Insult'], unknown, tmp_test['Insult'])"
   ]
  },
  {
   "cell_type": "markdown",
   "metadata": {},
   "source": [
    "RDF."
   ]
  },
  {
   "cell_type": "code",
   "execution_count": 23,
   "metadata": {},
   "outputs": [
    {
     "name": "stdout",
     "output_type": "stream",
     "text": [
      "RDF Accuracy Score ->  61.61073825503356\n",
      "RDF F1-Score ->  54.62407858221867\n"
     ]
    },
    {
     "data": {
      "image/png": "[encoded data removed]",
      "text/plain": [
       "<Figure size 1080x720 with 1 Axes>"
      ]
     },
     "metadata": {
      "needs_background": "light"
     },
     "output_type": "display_data"
    }
   ],
   "source": [
    "Test_Y_Random_Forests2 = tmp_test['Insult']\n",
    "RandomF(features, tmp_train['Insult'], unknown, tmp_test['Insult'], Test_Y_Random_Forests2)"
   ]
  }
 ],
 "metadata": {
  "kernelspec": {
   "display_name": "Python 3",
   "language": "python",
   "name": "python3"
  },
  "language_info": {
   "codemirror_mode": {
    "name": "ipython",
    "version": 3
   },
   "file_extension": ".py",
   "mimetype": "text/x-python",
   "name": "python",
   "nbconvert_exporter": "python",
   "pygments_lexer": "ipython3",
   "version": "3.7.6"
  }
 },
 "nbformat": 4,
 "nbformat_minor": 4
}
