{
 "cells": [
  {
   "cell_type": "markdown",
   "metadata": {},
   "source": [
    "Imports."
   ]
  },
  {
   "cell_type": "code",
   "execution_count": 1,
   "metadata": {},
   "outputs": [],
   "source": [
    "import csv\n",
    "import pandas as pd\n",
    "import re\n",
    "import numpy as np\n",
    "from collections import Counter\n",
    "from matplotlib import pyplot as plt\n",
    "\n",
    "from sklearn.preprocessing import LabelEncoder\n",
    "from sklearn.feature_extraction.text import TfidfTransformer, TfidfVectorizer, CountVectorizer\n",
    "from sklearn import naive_bayes\n",
    "from sklearn.metrics import classification_report, accuracy_score, recall_score, precision_score, f1_score\n",
    "from sklearn.model_selection import cross_val_score\n",
    "from sklearn.svm import SVC\n",
    "from sklearn.ensemble import RandomForestClassifier\n",
    "from sklearn.decomposition import PCA, FastICA, TruncatedSVD\n",
    "from sklearn.pipeline import Pipeline\n",
    "from sklearn_pandas import DataFrameMapper\n",
    "\n",
    "from nltk.corpus import stopwords, words\n",
    "from nltk.tokenize import WhitespaceTokenizer\n",
    "from nltk.stem import WordNetLemmatizer\n",
    "from nltk import word_tokenize, pos_tag, pos_tag_sents, WordPunctTokenizer\n",
    "\n",
    "import warnings\n",
    "warnings.filterwarnings('ignore')"
   ]
  },
  {
   "cell_type": "markdown",
   "metadata": {},
   "source": [
    "Read csv files and remove Usage and Date columns."
   ]
  },
  {
   "cell_type": "code",
   "execution_count": 2,
   "metadata": {},
   "outputs": [],
   "source": [
    "VerificationLabels = pd.read_csv('./data/impermium_verification_labels.csv')\n",
    "VerificationSet = pd.read_csv('./data/impermium_verification_set.csv')\n",
    "train = pd.read_csv('./data/train.csv')\n",
    "\n",
    "VerificationLabels = VerificationLabels.drop(columns='Usage')\n",
    "VerificationLabels = VerificationLabels.drop(columns='Date')\n",
    "VerificationSet = VerificationSet.drop(columns='Usage')\n",
    "VerificationSet = VerificationSet.drop(columns='Date')\n",
    "train = train.drop(columns='Date')"
   ]
  },
  {
   "cell_type": "markdown",
   "metadata": {},
   "source": [
    "Lower all characters, convert insult labels to int and remove empty rows."
   ]
  },
  {
   "cell_type": "code",
   "execution_count": 3,
   "metadata": {},
   "outputs": [],
   "source": [
    "VerificationLabels = VerificationLabels.apply(lambda x: x.astype(str).str.lower())\n",
    "VerificationSet = VerificationSet.apply(lambda x: x.astype(str).str.lower())\n",
    "train = train.apply(lambda x: x.astype(str).str.lower())\n",
    "\n",
    "VerificationLabels['Insult'] = VerificationLabels['Insult'].astype(int)\n",
    "train['Insult'] = train['Insult'].astype(int)"
   ]
  },
  {
   "cell_type": "markdown",
   "metadata": {},
   "source": [
    "Clean Comment Columns amd remove empty Comment Rows."
   ]
  },
  {
   "cell_type": "code",
   "execution_count": 4,
   "metadata": {},
   "outputs": [],
   "source": [
    "def cleanText(text):\n",
    "    # remove hashtags and mentions\n",
    "    text = text.str.replace(r'#.*?(?=\\s|$)', '')\n",
    "    text = text.str.replace(r'@.*?(?=\\s|$)', '')\n",
    "\n",
    "    # remove urls\n",
    "    text = text.replace(r'http\\S+', '', regex=True).replace(r'www\\S+', '', regex=True)\n",
    "    text = text.apply(lambda x: re.split('https:\\/\\/.*', str(x))[0])\n",
    "\n",
    "    # remove newlines and other special characters\n",
    "    text = text.replace(r'\\\\n',' ', regex=True)\n",
    "    text = text.replace(r'\\\\u',' ', regex=True)\n",
    "    text = text.replace(r'\\\\x',' ', regex=True)\n",
    "\n",
    "    # remove all numbers\n",
    "    text = text.str.replace('\\d+', '')\n",
    "\n",
    "    # remove words with 2 or 1 letter only\n",
    "    text = text.str.replace(r'\\b(\\w{1,2})\\b', '')\n",
    "\n",
    "    # remove punctuations\n",
    "    text = text.str.replace('[^\\w\\s]','')\n",
    "\n",
    "    # replace multiple whitespaces\n",
    "    text = text.apply(lambda x: re.sub(' +', ' ', x))\n",
    "\n",
    "#     # remove non english words\n",
    "#     words = set(words.words())\n",
    "#     text = text.apply(lambda x: ' '.join([w for w in nltk.wordpunct_tokenize(x) if w.lower() in words or not w.isalpha()]))\n",
    " \n",
    "    return text\n",
    "\n",
    "train['Comment'] = cleanText(train['Comment'])\n",
    "VerificationLabels['Comment'] = cleanText(VerificationLabels['Comment'])\n",
    "VerificationSet['Comment'] = cleanText(VerificationSet['Comment'])\n",
    "\n",
    "nan_value = float(\"NaN\")\n",
    "train['Comment'].replace(\"\", nan_value, inplace=True)\n",
    "VerificationSet['Comment'].replace(\"\", nan_value, inplace=True)\n",
    "VerificationLabels['Comment'].replace(\"\", nan_value, inplace=True)\n",
    "\n",
    "train.dropna(subset=['Comment'], inplace=True)\n",
    "VerificationSet.dropna(subset=['Comment'], inplace=True)\n",
    "VerificationLabels.dropna(subset=['Comment'], inplace=True)\n",
    "\n",
    "train.to_csv('./madeNew/trainCleaned.tsv', sep='\\t', index=False)\n",
    "VerificationLabels.to_csv('./madeNew/VerificationLabelsCleaned.tsv', sep='\\t', index=False)\n",
    "VerificationSet.to_csv('./madeNew/VerificationSetCleaned.tsv', sep='\\t', index=False)"
   ]
  },
  {
   "cell_type": "markdown",
   "metadata": {},
   "source": [
    "Function that separates Train and Test Data and Encodes Labels."
   ]
  },
  {
   "cell_type": "code",
   "execution_count": 5,
   "metadata": {},
   "outputs": [],
   "source": [
    "def MakeSets(trainText, trainLabels, testText, testLabels):\n",
    "    Train_X = trainText\n",
    "    Train_Y = trainLabels\n",
    "    \n",
    "    Test_X = testText\n",
    "    Test_Y = testLabels\n",
    "    \n",
    "    Encoder = LabelEncoder()\n",
    "    Train_Y = Encoder.fit_transform(Train_Y)\n",
    "    Test_Y = Encoder.fit_transform(Test_Y)\n",
    "    \n",
    "    return Train_X, Train_Y, Test_X, Test_Y\n",
    "\n",
    "Train_X, Train_Y, Test_X, Test_Y = MakeSets(train['Comment'], train['Insult'], VerificationSet['Comment'], VerificationLabels['Insult'])"
   ]
  },
  {
   "cell_type": "markdown",
   "metadata": {},
   "source": [
    "Count vectorizer for Naive Bayes."
   ]
  },
  {
   "cell_type": "code",
   "execution_count": 6,
   "metadata": {},
   "outputs": [],
   "source": [
    "train_to_list = np.array(Train_X.values.tolist())\n",
    "\n",
    "BoWvect = CountVectorizer()\n",
    "bow_xtrain = BoWvect.fit_transform(train_to_list)\n",
    "bow_xtest = BoWvect.transform(Test_X)"
   ]
  },
  {
   "cell_type": "markdown",
   "metadata": {},
   "source": [
    "# Naive Bayes with and without Laplace Smoothing, SVM and RDF functions."
   ]
  },
  {
   "cell_type": "code",
   "execution_count": 7,
   "metadata": {},
   "outputs": [],
   "source": [
    "def NaiveFun(trainX , trainY, testX, testY):\n",
    "    Naive = naive_bayes.GaussianNB()\n",
    "    Naive.fit(trainX.toarray(), trainY)\n",
    "    predictions_NB = Naive.predict(testX.toarray())\n",
    "\n",
    "    print(\"Naive Bayes Accuracy Score -> \",accuracy_score(predictions_NB, testY)*100)\n",
    "    print(\"Naive Bayes F1-Score -> \",f1_score(predictions_NB, testY, average='macro')*100)\n",
    "    \n",
    "def NaiveFunLaplaceSmoothing(trainX , trainY, testX, testY):\n",
    "#     Naive = naive_bayes.MultinomialNB(alpha = 1.0e-10)\n",
    "#     Naive = naive_bayes.MultinomialNB(alpha = 1.0000000000000001e-05)\n",
    "    Naive = naive_bayes.MultinomialNB(alpha = 1.0000000000000001e-10)\n",
    "    Naive.fit(trainX, trainY)\n",
    "    predictions_NB = Naive.predict(testX)\n",
    "\n",
    "    print(\"Naive Bayes Accuracy Score -> \",accuracy_score(predictions_NB, testY)*100)\n",
    "    print(\"Naive Bayes F1-Score -> \",f1_score(predictions_NB, testY, average='macro')*100)\n",
    "\n",
    "def SVMex(trainX, trainY, testX, testY):\n",
    "    SVM = SVC(C=1.0, kernel='linear', degree=3, gamma=0.1, probability=True)\n",
    "    SVM.fit(trainX, trainY)\n",
    "    predictions_SVM = SVM.predict(testX)\n",
    "    \n",
    "    print(\"SVM Accuracy Score -> \",accuracy_score(predictions_SVM, testY)*100)\n",
    "    print(\"SVM F1-Score -> \",f1_score(predictions_SVM, testY, average='macro')*100)\n",
    "\n",
    "def RandomF(trainX, trainY, testX, testY, Test_Y_Random_Forests):\n",
    "    rf = RandomForestClassifier(n_estimators=50, bootstrap = True, max_features = 'sqrt')\n",
    "    rf.fit(trainX, trainY)\n",
    "    predictions = rf.predict(testX)\n",
    "\n",
    "    print(\"RDF Accuracy Score -> \",accuracy_score(predictions, testY)*100)\n",
    "    print(\"RDF F1-Score -> \",f1_score(predictions, testY, average='macro')*100)\n",
    "    \n",
    "    fig = plt.figure(figsize=[15,10])\n",
    "    # Plot the actual values\n",
    "    plt.plot(testY[:100], 'b-', label = 'actual')\n",
    "    # Plot the predicted values\n",
    "    plt.plot(predictions[:100], 'ro', label = 'prediction')\n",
    "    plt.xticks(rotation = '60'); \n",
    "    plt.legend()\n",
    "    plt.title('Actual and Predicted Values on a sample of 100 Strings.');"
   ]
  },
  {
   "cell_type": "markdown",
   "metadata": {},
   "source": [
    "# Naive Bayes."
   ]
  },
  {
   "cell_type": "code",
   "execution_count": 8,
   "metadata": {},
   "outputs": [
    {
     "name": "stdout",
     "output_type": "stream",
     "text": [
      "Naive Bayes Accuracy Score ->  51.991051454138706\n",
      "Naive Bayes F1-Score ->  51.99009033807963\n"
     ]
    }
   ],
   "source": [
    "NaiveFun(bow_xtrain, Train_Y, bow_xtest, Test_Y)"
   ]
  },
  {
   "cell_type": "markdown",
   "metadata": {},
   "source": [
    "Χαμηλό σκορ επειδή οι περισσότερες προσβολές στην καθημερινή ζωή δεν είναι μόνο μία λέξη από μόνη της, οπότε εφόσον δε δίνουμε σα παράμετρο να υπολογιστούν οι λέξεις σε ζεύγη που εμφανίζονται, πολλά προσβλητικά περιεχόμενα δεν αξιολογούνται σωστά."
   ]
  },
  {
   "cell_type": "markdown",
   "metadata": {},
   "source": [
    "# Optimize Naive Bayes."
   ]
  },
  {
   "cell_type": "markdown",
   "metadata": {},
   "source": [
    "Lemmatization."
   ]
  },
  {
   "cell_type": "code",
   "execution_count": 9,
   "metadata": {},
   "outputs": [
    {
     "name": "stdout",
     "output_type": "stream",
     "text": [
      "Naive Bayes Accuracy Score ->  50.82774049217002\n",
      "Naive Bayes F1-Score ->  50.740606077865166\n"
     ]
    }
   ],
   "source": [
    "w_tokenizer = WhitespaceTokenizer()\n",
    "lemmatizer = WordNetLemmatizer()\n",
    "\n",
    "def lemmatize_text(text):\n",
    "    return [lemmatizer.lemmatize(w,'v') for w in w_tokenizer.tokenize(text)]\n",
    "\n",
    "tmpTrain = train\n",
    "tmpTrain['Lemmatization'] = tmpTrain.Comment.apply(lemmatize_text)\n",
    "tmpTrain['Lemmatization'] = tmpTrain['Lemmatization'].apply(lambda x: ' '.join(x))\n",
    "\n",
    "tmpVerification = VerificationLabels\n",
    "tmpVerification['Lemmatization'] = tmpVerification.Comment.apply(lemmatize_text)\n",
    "tmpVerification['Lemmatization'] = tmpVerification['Lemmatization'].apply(lambda x: ' '.join(x))\n",
    "\n",
    "Train_X, Train_Y, Test_X, Test_Y = MakeSets(tmpTrain['Lemmatization'], tmpTrain['Insult'], tmpVerification['Lemmatization'], tmpVerification['Insult'])\n",
    "\n",
    "train_to_list = np.array(Train_X.values.tolist())\n",
    "\n",
    "BoWvect = CountVectorizer()\n",
    "bow_xtrain = BoWvect.fit_transform(train_to_list)\n",
    "bow_xtest = BoWvect.transform(Test_X)\n",
    "\n",
    "NaiveFun(bow_xtrain, Train_Y, bow_xtest, Test_Y)"
   ]
  },
  {
   "cell_type": "markdown",
   "metadata": {},
   "source": [
    "Remove stop words."
   ]
  },
  {
   "cell_type": "code",
   "execution_count": 10,
   "metadata": {},
   "outputs": [
    {
     "name": "stdout",
     "output_type": "stream",
     "text": [
      "Naive Bayes Accuracy Score ->  51.72259507829977\n",
      "Naive Bayes F1-Score ->  51.72244044243194\n"
     ]
    }
   ],
   "source": [
    "stop = stopwords.words('english')\n",
    "tmpTrain['RemStopWords'] = tmpTrain.Comment.apply(lambda x: ' '.join([word for word in x.split() if word not in (stop)]))\n",
    "tmpVerification['RemStopWords'] = tmpVerification.Comment.apply(lambda x: ' '.join([word for word in x.split() if word not in (stop)]))\n",
    "\n",
    "Train_X, Train_Y, Test_X, Test_Y = MakeSets(tmpTrain['RemStopWords'], tmpTrain['Insult'], tmpVerification['RemStopWords'], tmpVerification['Insult'])\n",
    "\n",
    "train_to_list = np.array(Train_X.values.tolist())\n",
    "\n",
    "BoWvect = CountVectorizer()\n",
    "bow_xtrain = BoWvect.fit_transform(train_to_list)\n",
    "bow_xtest = BoWvect.transform(Test_X)\n",
    "\n",
    "NaiveFun(bow_xtrain, Train_Y, bow_xtest, Test_Y)"
   ]
  },
  {
   "cell_type": "markdown",
   "metadata": {},
   "source": [
    "Use bigrams."
   ]
  },
  {
   "cell_type": "code",
   "execution_count": 11,
   "metadata": {},
   "outputs": [
    {
     "name": "stdout",
     "output_type": "stream",
     "text": [
      "Naive Bayes Accuracy Score ->  55.57046979865772\n",
      "Naive Bayes F1-Score ->  55.56691175366504\n"
     ]
    }
   ],
   "source": [
    "Train_X, Train_Y, Test_X, Test_Y = MakeSets(tmpTrain['Comment'], tmpTrain['Insult'], tmpVerification['Comment'], tmpVerification['Insult'])\n",
    "\n",
    "train_to_list = np.array(Train_X.values.tolist())\n",
    "\n",
    "BoWvect = CountVectorizer(ngram_range=(2, 2))\n",
    "bow_xtrain = BoWvect.fit_transform(train_to_list)\n",
    "bow_xtest = BoWvect.transform(Test_X)\n",
    "\n",
    "NaiveFun(bow_xtrain, Train_Y, bow_xtest, Test_Y)"
   ]
  },
  {
   "cell_type": "markdown",
   "metadata": {},
   "source": [
    "Use Laplace Smoothing."
   ]
  },
  {
   "cell_type": "code",
   "execution_count": 12,
   "metadata": {},
   "outputs": [
    {
     "name": "stdout",
     "output_type": "stream",
     "text": [
      "Naive Bayes Accuracy Score ->  58.70246085011186\n",
      "Naive Bayes F1-Score ->  58.20431554743421\n"
     ]
    }
   ],
   "source": [
    "Train_X, Train_Y, Test_X, Test_Y = MakeSets(tmpTrain['Comment'], tmpTrain['Insult'], tmpVerification['Comment'], tmpVerification['Insult'])\n",
    "\n",
    "train_to_list = np.array(Train_X.values.tolist())\n",
    "\n",
    "BoWvect = CountVectorizer()\n",
    "bow_xtrain = BoWvect.fit_transform(train_to_list)\n",
    "bow_xtest = BoWvect.transform(Test_X)\n",
    "\n",
    "NaiveFunLaplaceSmoothing(bow_xtrain, Train_Y, bow_xtest, Test_Y)"
   ]
  },
  {
   "cell_type": "markdown",
   "metadata": {},
   "source": [
    "All technics together."
   ]
  },
  {
   "cell_type": "code",
   "execution_count": 13,
   "metadata": {},
   "outputs": [
    {
     "name": "stdout",
     "output_type": "stream",
     "text": [
      "Naive Bayes Accuracy Score ->  58.61297539149888\n",
      "Naive Bayes F1-Score ->  53.57894829022107\n"
     ]
    }
   ],
   "source": [
    "tmpTrain['AllTog'] = tmpTrain.Comment.apply(lemmatize_text)\n",
    "tmpTrain['AllTog'] = tmpTrain['AllTog'].apply(lambda x: ' '.join(x))\n",
    "\n",
    "tmpVerification['AllTog'] = tmpVerification.Comment.apply(lemmatize_text)\n",
    "tmpVerification['AllTog'] = tmpVerification['AllTog'].apply(lambda x: ' '.join(x))\n",
    "\n",
    "stop = stopwords.words('english')\n",
    "tmpTrain['AllTog'] = tmpTrain.AllTog.apply(lambda x: ' '.join([word for word in x.split() if word not in (stop)]))\n",
    "tmpVerification['AllTog'] = tmpVerification.AllTog.apply(lambda x: ' '.join([word for word in x.split() if word not in (stop)]))\n",
    "\n",
    "Train_X, Train_Y, Test_X, Test_Y = MakeSets(tmpTrain['AllTog'], tmpTrain['Insult'], tmpVerification['AllTog'], tmpVerification['Insult'])\n",
    "\n",
    "train_to_list = np.array(Train_X.values.tolist())\n",
    "\n",
    "BoWvect = CountVectorizer(ngram_range=(2, 2))\n",
    "bow_xtrain = BoWvect.fit_transform(train_to_list)\n",
    "bow_xtest = BoWvect.transform(Test_X)\n",
    "\n",
    "NaiveFunLaplaceSmoothing(bow_xtrain, Train_Y, bow_xtest, Test_Y)"
   ]
  },
  {
   "cell_type": "markdown",
   "metadata": {},
   "source": [
    "# Make POS tags and TFIDF columns."
   ]
  },
  {
   "cell_type": "code",
   "execution_count": 14,
   "metadata": {},
   "outputs": [
    {
     "data": {
      "text/html": [
       "<div>\n",
       "<style scoped>\n",
       "    .dataframe tbody tr th:only-of-type {\n",
       "        vertical-align: middle;\n",
       "    }\n",
       "\n",
       "    .dataframe tbody tr th {\n",
       "        vertical-align: top;\n",
       "    }\n",
       "\n",
       "    .dataframe thead th {\n",
       "        text-align: right;\n",
       "    }\n",
       "</style>\n",
       "<table border=\"1\" class=\"dataframe\">\n",
       "  <thead>\n",
       "    <tr style=\"text-align: right;\">\n",
       "      <th></th>\n",
       "      <th>Insult</th>\n",
       "      <th>Comment</th>\n",
       "      <th>Lemmatization</th>\n",
       "      <th>RemStopWords</th>\n",
       "      <th>AllTog</th>\n",
       "      <th>POSTags</th>\n",
       "      <th>TFIDF</th>\n",
       "      <th>Paired</th>\n",
       "    </tr>\n",
       "  </thead>\n",
       "  <tbody>\n",
       "    <tr>\n",
       "      <th>0</th>\n",
       "      <td>1</td>\n",
       "      <td>you fuck your dad</td>\n",
       "      <td>you fuck your dad</td>\n",
       "      <td>fuck dad</td>\n",
       "      <td>fuck dad</td>\n",
       "      <td>[(you, PRP), (fuck, VBP), (your, PRP$), (dad, ...</td>\n",
       "      <td>[0.0, 0.0, 0.0, 0.0, 0.0, 0.0, 0.0, 0.0, 0.0, ...</td>\n",
       "      <td>you_PRP fuck_VBP your_PRP$ dad_NN</td>\n",
       "    </tr>\n",
       "    <tr>\n",
       "      <th>1</th>\n",
       "      <td>0</td>\n",
       "      <td>really don understand your point seems that y...</td>\n",
       "      <td>really don understand your point seem that you...</td>\n",
       "      <td>really understand point seems mixing apples or...</td>\n",
       "      <td>really understand point seem mix apples oranges</td>\n",
       "      <td>[(really, RB), (don, JJ), (understand, VB), (y...</td>\n",
       "      <td>[0.0, 0.0, 0.0, 0.0, 0.0, 0.0, 0.0, 0.0, 0.0, ...</td>\n",
       "      <td>really_RB don_JJ understand_VB your_PRP$ point...</td>\n",
       "    </tr>\n",
       "    <tr>\n",
       "      <th>2</th>\n",
       "      <td>0</td>\n",
       "      <td>amajority canadians can and has been wrong be...</td>\n",
       "      <td>amajority canadians can and have be wrong befo...</td>\n",
       "      <td>amajority canadians wrong unless supportive id...</td>\n",
       "      <td>amajority canadians wrong unless supportive id...</td>\n",
       "      <td>[(amajority, NN), (canadians, NNS), (can, MD),...</td>\n",
       "      <td>[0.0, 0.0, 0.0, 0.0, 0.0, 0.0, 0.0, 0.0, 0.0, ...</td>\n",
       "      <td>amajority_NN canadians_NNS can_MD and_CC has_V...</td>\n",
       "    </tr>\n",
       "    <tr>\n",
       "      <th>3</th>\n",
       "      <td>0</td>\n",
       "      <td>listen you dont wanna get married man women do...</td>\n",
       "      <td>listen you dont wanna get marry man women dont...</td>\n",
       "      <td>listen dont wanna get married man women dont w...</td>\n",
       "      <td>listen dont wanna get marry man women dont wou...</td>\n",
       "      <td>[(listen, VB), (you, PRP), (dont, JJ), (wan, V...</td>\n",
       "      <td>[0.0, 0.0, 0.0, 0.0, 0.0, 0.0, 0.0, 0.0, 0.0, ...</td>\n",
       "      <td>listen_VB you_PRP dont_VBP wanna_JJ get_NN mar...</td>\n",
       "    </tr>\n",
       "    <tr>\n",
       "      <th>4</th>\n",
       "      <td>0</td>\n",
       "      <td>ean edng eddng ecu ecnh fng edi eau chi eec f...</td>\n",
       "      <td>ean edng eddng ecu ecnh fng edi eau chi eec fn...</td>\n",
       "      <td>ean edng eddng ecu ecnh fng edi eau chi eec fn...</td>\n",
       "      <td>ean edng eddng ecu ecnh fng edi eau chi eec fn...</td>\n",
       "      <td>[(ean, JJ), (edng, NN), (eddng, NN), (ecu, NN)...</td>\n",
       "      <td>[0.0, 0.0, 0.0, 0.0, 0.0, 0.0, 0.0, 0.0, 0.0, ...</td>\n",
       "      <td>ean_JJ edng_NN eddng_NN ecu_NN ecnh_NN fng_NN ...</td>\n",
       "    </tr>\n",
       "  </tbody>\n",
       "</table>\n",
       "</div>"
      ],
      "text/plain": [
       "   Insult                                            Comment  \\\n",
       "0       1                                  you fuck your dad   \n",
       "1       0   really don understand your point seems that y...   \n",
       "2       0   amajority canadians can and has been wrong be...   \n",
       "3       0  listen you dont wanna get married man women do...   \n",
       "4       0   ean edng eddng ecu ecnh fng edi eau chi eec f...   \n",
       "\n",
       "                                       Lemmatization  \\\n",
       "0                                  you fuck your dad   \n",
       "1  really don understand your point seem that you...   \n",
       "2  amajority canadians can and have be wrong befo...   \n",
       "3  listen you dont wanna get marry man women dont...   \n",
       "4  ean edng eddng ecu ecnh fng edi eau chi eec fn...   \n",
       "\n",
       "                                        RemStopWords  \\\n",
       "0                                           fuck dad   \n",
       "1  really understand point seems mixing apples or...   \n",
       "2  amajority canadians wrong unless supportive id...   \n",
       "3  listen dont wanna get married man women dont w...   \n",
       "4  ean edng eddng ecu ecnh fng edi eau chi eec fn...   \n",
       "\n",
       "                                              AllTog  \\\n",
       "0                                           fuck dad   \n",
       "1    really understand point seem mix apples oranges   \n",
       "2  amajority canadians wrong unless supportive id...   \n",
       "3  listen dont wanna get marry man women dont wou...   \n",
       "4  ean edng eddng ecu ecnh fng edi eau chi eec fn...   \n",
       "\n",
       "                                             POSTags  \\\n",
       "0  [(you, PRP), (fuck, VBP), (your, PRP$), (dad, ...   \n",
       "1  [(really, RB), (don, JJ), (understand, VB), (y...   \n",
       "2  [(amajority, NN), (canadians, NNS), (can, MD),...   \n",
       "3  [(listen, VB), (you, PRP), (dont, JJ), (wan, V...   \n",
       "4  [(ean, JJ), (edng, NN), (eddng, NN), (ecu, NN)...   \n",
       "\n",
       "                                               TFIDF  \\\n",
       "0  [0.0, 0.0, 0.0, 0.0, 0.0, 0.0, 0.0, 0.0, 0.0, ...   \n",
       "1  [0.0, 0.0, 0.0, 0.0, 0.0, 0.0, 0.0, 0.0, 0.0, ...   \n",
       "2  [0.0, 0.0, 0.0, 0.0, 0.0, 0.0, 0.0, 0.0, 0.0, ...   \n",
       "3  [0.0, 0.0, 0.0, 0.0, 0.0, 0.0, 0.0, 0.0, 0.0, ...   \n",
       "4  [0.0, 0.0, 0.0, 0.0, 0.0, 0.0, 0.0, 0.0, 0.0, ...   \n",
       "\n",
       "                                              Paired  \n",
       "0                  you_PRP fuck_VBP your_PRP$ dad_NN  \n",
       "1  really_RB don_JJ understand_VB your_PRP$ point...  \n",
       "2  amajority_NN canadians_NNS can_MD and_CC has_V...  \n",
       "3  listen_VB you_PRP dont_VBP wanna_JJ get_NN mar...  \n",
       "4  ean_JJ edng_NN eddng_NN ecu_NN ecnh_NN fng_NN ...  "
      ]
     },
     "execution_count": 14,
     "metadata": {},
     "output_type": "execute_result"
    }
   ],
   "source": [
    "tmpTrain['POSTags'] = pos_tag_sents(tmpTrain['Comment'].apply(word_tokenize).tolist()) # pos_tag\n",
    "tmpVerification['POSTags'] = pos_tag_sents(tmpVerification['Comment'].apply(word_tokenize).tolist()) # pos_tag\n",
    "\n",
    "Tfidf_vect = TfidfVectorizer(min_df = 5, max_df = 0.95, max_features = 8000, stop_words = 'english')\n",
    "Tfidf_vect.fit(tmpTrain['Comment'])\n",
    "\n",
    "tmpTrain['TFIDF'] = list(Tfidf_vect.transform(tmpTrain['Comment']).toarray())\n",
    "\n",
    "tmpVerification['TFIDF'] = list(Tfidf_vect.transform(tmpVerification['Comment']).toarray())\n",
    "\n",
    "wpt = WordPunctTokenizer()\n",
    "def PairWordsWithPOStags(text):\n",
    "    textTok = wpt.tokenize(str(text))\n",
    "    text_tagged = pos_tag(textTok)\n",
    "    new_text = []\n",
    "    for word in text_tagged:\n",
    "        new_text.append(word[0] + \"_\" + word[1])\n",
    "    doc = ' '.join(new_text)\n",
    "    return doc\n",
    "\n",
    "tmpTrain[\"Paired\"] = tmpTrain['Comment'].apply(PairWordsWithPOStags)\n",
    "tmpVerification[\"Paired\"] = tmpVerification['Comment'].apply(PairWordsWithPOStags)\n",
    "\n",
    "tmpTrain.head()"
   ]
  },
  {
   "cell_type": "markdown",
   "metadata": {},
   "source": [
    "SVM on POS."
   ]
  },
  {
   "cell_type": "code",
   "execution_count": 15,
   "metadata": {},
   "outputs": [
    {
     "name": "stdout",
     "output_type": "stream",
     "text": [
      "SVM Accuracy Score ->  68.90380313199105\n",
      "SVM F1-Score ->  67.65001431806941\n"
     ]
    }
   ],
   "source": [
    "Train_X, Train_Y, Test_X, Test_Y = MakeSets(tmpTrain['Paired'], tmpTrain['Insult'], tmpVerification['Paired'], tmpVerification['Insult'])\n",
    "\n",
    "train_to_list = np.array(Train_X.values.tolist())\n",
    "\n",
    "BoWvect = CountVectorizer()\n",
    "\n",
    "bow_xtrain = BoWvect.fit_transform(train_to_list)\n",
    "bow_xtest = BoWvect.transform(Test_X)\n",
    "\n",
    "Test_Y_Random_Forests = tmpVerification['Insult']\n",
    "SVMex(bow_xtrain, Train_Y, bow_xtest, Test_Y)"
   ]
  },
  {
   "cell_type": "markdown",
   "metadata": {},
   "source": [
    "SVM on TFIDF."
   ]
  },
  {
   "cell_type": "code",
   "execution_count": 16,
   "metadata": {},
   "outputs": [
    {
     "name": "stdout",
     "output_type": "stream",
     "text": [
      "SVM Accuracy Score ->  67.56152125279642\n",
      "SVM F1-Score ->  64.81918968685252\n"
     ]
    }
   ],
   "source": [
    "# Tfidf_vect = TfidfVectorizer(min_df = 5, max_df = 0.95, max_features = 8000, stop_words = 'english')\n",
    "# Tfidf_vect.fit(tmpTrain['Comment'])\n",
    "# Train_X_Tfidf = Tfidf_vect.transform(tmpTrain['Comment'])\n",
    "# Test_X_Tfidf = Tfidf_vect.transform(tmpVerification['Comment'])\n",
    "\n",
    "Train_X_Tfidf = tmpTrain['TFIDF'].tolist()\n",
    "Test_X_Tfidf = tmpVerification['TFIDF'].tolist()\n",
    "\n",
    "SVMex(Train_X_Tfidf, Train_Y, Test_X_Tfidf, Test_Y)"
   ]
  },
  {
   "cell_type": "markdown",
   "metadata": {},
   "source": [
    "RDF on POS."
   ]
  },
  {
   "cell_type": "code",
   "execution_count": 17,
   "metadata": {},
   "outputs": [
    {
     "name": "stdout",
     "output_type": "stream",
     "text": [
      "RDF Accuracy Score ->  62.10290827740492\n",
      "RDF F1-Score ->  55.0370063006074\n"
     ]
    },
    {
     "data": {
      "image/png": "[encoded data removed]",
      "text/plain": [
       "<Figure size 1080x720 with 1 Axes>"
      ]
     },
     "metadata": {
      "needs_background": "light"
     },
     "output_type": "display_data"
    }
   ],
   "source": [
    "RandomF(bow_xtrain, Train_Y, bow_xtest, Test_Y, Test_Y_Random_Forests)"
   ]
  },
  {
   "cell_type": "markdown",
   "metadata": {},
   "source": [
    "RDF on TFIDF."
   ]
  },
  {
   "cell_type": "code",
   "execution_count": 18,
   "metadata": {},
   "outputs": [
    {
     "name": "stdout",
     "output_type": "stream",
     "text": [
      "RDF Accuracy Score ->  67.82997762863535\n",
      "RDF F1-Score ->  65.34936770382917\n"
     ]
    },
    {
     "data": {
      "image/png": "[encoded data removed]",
      "text/plain": [
       "<Figure size 1080x720 with 1 Axes>"
      ]
     },
     "metadata": {
      "needs_background": "light"
     },
     "output_type": "display_data"
    }
   ],
   "source": [
    "Train_X_Tfidf = tmpTrain['TFIDF'].tolist()\n",
    "Test_X_Tfidf = tmpVerification['TFIDF'].tolist()\n",
    "\n",
    "RandomF(Train_X_Tfidf, Train_Y, Test_X_Tfidf, Test_Y, Test_Y_Random_Forests)"
   ]
  },
  {
   "cell_type": "markdown",
   "metadata": {},
   "source": [
    "# Find POS tags and fractions."
   ]
  },
  {
   "cell_type": "code",
   "execution_count": 19,
   "metadata": {},
   "outputs": [
    {
     "data": {
      "text/html": [
       "<div>\n",
       "<style scoped>\n",
       "    .dataframe tbody tr th:only-of-type {\n",
       "        vertical-align: middle;\n",
       "    }\n",
       "\n",
       "    .dataframe tbody tr th {\n",
       "        vertical-align: top;\n",
       "    }\n",
       "\n",
       "    .dataframe thead th {\n",
       "        text-align: right;\n",
       "    }\n",
       "</style>\n",
       "<table border=\"1\" class=\"dataframe\">\n",
       "  <thead>\n",
       "    <tr style=\"text-align: right;\">\n",
       "      <th></th>\n",
       "      <th>Insult</th>\n",
       "      <th>Comment</th>\n",
       "      <th>Lemmatization</th>\n",
       "      <th>RemStopWords</th>\n",
       "      <th>AllTog</th>\n",
       "      <th>POSTags</th>\n",
       "      <th>TFIDF</th>\n",
       "      <th>Paired</th>\n",
       "      <th>POSTagger</th>\n",
       "      <th>fractionAdverbs</th>\n",
       "      <th>fractionVerbs</th>\n",
       "      <th>fractionAdjectives</th>\n",
       "      <th>fractionNouns</th>\n",
       "    </tr>\n",
       "  </thead>\n",
       "  <tbody>\n",
       "    <tr>\n",
       "      <th>0</th>\n",
       "      <td>1</td>\n",
       "      <td>you fuck your dad</td>\n",
       "      <td>you fuck your dad</td>\n",
       "      <td>fuck dad</td>\n",
       "      <td>fuck dad</td>\n",
       "      <td>[(you, PRP), (fuck, VBP), (your, PRP$), (dad, ...</td>\n",
       "      <td>[0.0, 0.0, 0.0, 0.0, 0.0, 0.0, 0.0, 0.0, 0.0, ...</td>\n",
       "      <td>you_PRP fuck_VBP your_PRP$ dad_NN</td>\n",
       "      <td>{'PRP': 1, 'VBP': 1, 'PRP$': 1, 'NN': 1}</td>\n",
       "      <td>0.000000</td>\n",
       "      <td>25.000000</td>\n",
       "      <td>0.000000</td>\n",
       "      <td>25.000000</td>\n",
       "    </tr>\n",
       "    <tr>\n",
       "      <th>1</th>\n",
       "      <td>0</td>\n",
       "      <td>really don understand your point seems that y...</td>\n",
       "      <td>really don understand your point seem that you...</td>\n",
       "      <td>really understand point seems mixing apples or...</td>\n",
       "      <td>really understand point seem mix apples oranges</td>\n",
       "      <td>[(really, RB), (don, JJ), (understand, VB), (y...</td>\n",
       "      <td>[0.0, 0.0, 0.0, 0.0, 0.0, 0.0, 0.0, 0.0, 0.0, ...</td>\n",
       "      <td>really_RB don_JJ understand_VB your_PRP$ point...</td>\n",
       "      <td>{'RB': 1, 'JJ': 1, 'VB': 1, 'PRP$': 1, 'NN': 1...</td>\n",
       "      <td>7.692308</td>\n",
       "      <td>30.769231</td>\n",
       "      <td>7.692308</td>\n",
       "      <td>23.076923</td>\n",
       "    </tr>\n",
       "    <tr>\n",
       "      <th>2</th>\n",
       "      <td>0</td>\n",
       "      <td>amajority canadians can and has been wrong be...</td>\n",
       "      <td>amajority canadians can and have be wrong befo...</td>\n",
       "      <td>amajority canadians wrong unless supportive id...</td>\n",
       "      <td>amajority canadians wrong unless supportive id...</td>\n",
       "      <td>[(amajority, NN), (canadians, NNS), (can, MD),...</td>\n",
       "      <td>[0.0, 0.0, 0.0, 0.0, 0.0, 0.0, 0.0, 0.0, 0.0, ...</td>\n",
       "      <td>amajority_NN canadians_NNS can_MD and_CC has_V...</td>\n",
       "      <td>{'NN': 11, 'NNS': 4, 'MD': 4, 'CC': 6, 'VBZ': ...</td>\n",
       "      <td>11.320755</td>\n",
       "      <td>11.320755</td>\n",
       "      <td>7.547170</td>\n",
       "      <td>28.301887</td>\n",
       "    </tr>\n",
       "    <tr>\n",
       "      <th>3</th>\n",
       "      <td>0</td>\n",
       "      <td>listen you dont wanna get married man women do...</td>\n",
       "      <td>listen you dont wanna get marry man women dont...</td>\n",
       "      <td>listen dont wanna get married man women dont w...</td>\n",
       "      <td>listen dont wanna get marry man women dont wou...</td>\n",
       "      <td>[(listen, VB), (you, PRP), (dont, JJ), (wan, V...</td>\n",
       "      <td>[0.0, 0.0, 0.0, 0.0, 0.0, 0.0, 0.0, 0.0, 0.0, ...</td>\n",
       "      <td>listen_VB you_PRP dont_VBP wanna_JJ get_NN mar...</td>\n",
       "      <td>{'VB': 5, 'PRP': 7, 'JJ': 9, 'NN': 4, 'NNS': 3...</td>\n",
       "      <td>2.380952</td>\n",
       "      <td>23.809524</td>\n",
       "      <td>21.428571</td>\n",
       "      <td>16.666667</td>\n",
       "    </tr>\n",
       "    <tr>\n",
       "      <th>4</th>\n",
       "      <td>0</td>\n",
       "      <td>ean edng eddng ecu ecnh fng edi eau chi eec f...</td>\n",
       "      <td>ean edng eddng ecu ecnh fng edi eau chi eec fn...</td>\n",
       "      <td>ean edng eddng ecu ecnh fng edi eau chi eec fn...</td>\n",
       "      <td>ean edng eddng ecu ecnh fng edi eau chi eec fn...</td>\n",
       "      <td>[(ean, JJ), (edng, NN), (eddng, NN), (ecu, NN)...</td>\n",
       "      <td>[0.0, 0.0, 0.0, 0.0, 0.0, 0.0, 0.0, 0.0, 0.0, ...</td>\n",
       "      <td>ean_JJ edng_NN eddng_NN ecu_NN ecnh_NN fng_NN ...</td>\n",
       "      <td>{'JJ': 2, 'NN': 38, 'FW': 2}</td>\n",
       "      <td>0.000000</td>\n",
       "      <td>0.000000</td>\n",
       "      <td>4.761905</td>\n",
       "      <td>90.476190</td>\n",
       "    </tr>\n",
       "  </tbody>\n",
       "</table>\n",
       "</div>"
      ],
      "text/plain": [
       "   Insult                                            Comment  \\\n",
       "0       1                                  you fuck your dad   \n",
       "1       0   really don understand your point seems that y...   \n",
       "2       0   amajority canadians can and has been wrong be...   \n",
       "3       0  listen you dont wanna get married man women do...   \n",
       "4       0   ean edng eddng ecu ecnh fng edi eau chi eec f...   \n",
       "\n",
       "                                       Lemmatization  \\\n",
       "0                                  you fuck your dad   \n",
       "1  really don understand your point seem that you...   \n",
       "2  amajority canadians can and have be wrong befo...   \n",
       "3  listen you dont wanna get marry man women dont...   \n",
       "4  ean edng eddng ecu ecnh fng edi eau chi eec fn...   \n",
       "\n",
       "                                        RemStopWords  \\\n",
       "0                                           fuck dad   \n",
       "1  really understand point seems mixing apples or...   \n",
       "2  amajority canadians wrong unless supportive id...   \n",
       "3  listen dont wanna get married man women dont w...   \n",
       "4  ean edng eddng ecu ecnh fng edi eau chi eec fn...   \n",
       "\n",
       "                                              AllTog  \\\n",
       "0                                           fuck dad   \n",
       "1    really understand point seem mix apples oranges   \n",
       "2  amajority canadians wrong unless supportive id...   \n",
       "3  listen dont wanna get marry man women dont wou...   \n",
       "4  ean edng eddng ecu ecnh fng edi eau chi eec fn...   \n",
       "\n",
       "                                             POSTags  \\\n",
       "0  [(you, PRP), (fuck, VBP), (your, PRP$), (dad, ...   \n",
       "1  [(really, RB), (don, JJ), (understand, VB), (y...   \n",
       "2  [(amajority, NN), (canadians, NNS), (can, MD),...   \n",
       "3  [(listen, VB), (you, PRP), (dont, JJ), (wan, V...   \n",
       "4  [(ean, JJ), (edng, NN), (eddng, NN), (ecu, NN)...   \n",
       "\n",
       "                                               TFIDF  \\\n",
       "0  [0.0, 0.0, 0.0, 0.0, 0.0, 0.0, 0.0, 0.0, 0.0, ...   \n",
       "1  [0.0, 0.0, 0.0, 0.0, 0.0, 0.0, 0.0, 0.0, 0.0, ...   \n",
       "2  [0.0, 0.0, 0.0, 0.0, 0.0, 0.0, 0.0, 0.0, 0.0, ...   \n",
       "3  [0.0, 0.0, 0.0, 0.0, 0.0, 0.0, 0.0, 0.0, 0.0, ...   \n",
       "4  [0.0, 0.0, 0.0, 0.0, 0.0, 0.0, 0.0, 0.0, 0.0, ...   \n",
       "\n",
       "                                              Paired  \\\n",
       "0                  you_PRP fuck_VBP your_PRP$ dad_NN   \n",
       "1  really_RB don_JJ understand_VB your_PRP$ point...   \n",
       "2  amajority_NN canadians_NNS can_MD and_CC has_V...   \n",
       "3  listen_VB you_PRP dont_VBP wanna_JJ get_NN mar...   \n",
       "4  ean_JJ edng_NN eddng_NN ecu_NN ecnh_NN fng_NN ...   \n",
       "\n",
       "                                           POSTagger  fractionAdverbs  \\\n",
       "0           {'PRP': 1, 'VBP': 1, 'PRP$': 1, 'NN': 1}         0.000000   \n",
       "1  {'RB': 1, 'JJ': 1, 'VB': 1, 'PRP$': 1, 'NN': 1...         7.692308   \n",
       "2  {'NN': 11, 'NNS': 4, 'MD': 4, 'CC': 6, 'VBZ': ...        11.320755   \n",
       "3  {'VB': 5, 'PRP': 7, 'JJ': 9, 'NN': 4, 'NNS': 3...         2.380952   \n",
       "4                       {'JJ': 2, 'NN': 38, 'FW': 2}         0.000000   \n",
       "\n",
       "   fractionVerbs  fractionAdjectives  fractionNouns  \n",
       "0      25.000000            0.000000      25.000000  \n",
       "1      30.769231            7.692308      23.076923  \n",
       "2      11.320755            7.547170      28.301887  \n",
       "3      23.809524           21.428571      16.666667  \n",
       "4       0.000000            4.761905      90.476190  "
      ]
     },
     "execution_count": 19,
     "metadata": {},
     "output_type": "execute_result"
    }
   ],
   "source": [
    "def POSTagger(text):\n",
    "    lower_case = text.lower()\n",
    "    tokens = word_tokenize(lower_case)\n",
    "    tags = pos_tag(tokens)\n",
    "    counts = Counter( tag for word, tag in tags)\n",
    "    return counts\n",
    "\n",
    "def POSTaggerAdverbs(text):\n",
    "    CountAdverbs=0\n",
    "    Total=0\n",
    "    lower_case = text.lower()\n",
    "    tokens = word_tokenize(lower_case)\n",
    "    tags = pos_tag(tokens)\n",
    "    counts = Counter( tag for word, tag in tags)\n",
    "    for i, j in counts.items():\n",
    "        Total+=j\n",
    "        if(i=='RB' or i=='RBR' or i=='RBS'):\n",
    "            CountAdverbs+=j\n",
    "    if(Total!=0):\n",
    "        return ((CountAdverbs*100) / Total)\n",
    "    else:\n",
    "        return 0\n",
    "\n",
    "def POSTaggerNouns(text):\n",
    "    CountrNouns=0\n",
    "    Total=0\n",
    "    lower_case = text.lower()\n",
    "    tokens = word_tokenize(lower_case)\n",
    "    tags = pos_tag(tokens)\n",
    "    counts = Counter( tag for word, tag in tags)\n",
    "    for i, j in counts.items():\n",
    "        Total+=j\n",
    "        if(i=='NN' or i=='NNS' or i=='NNP' or i=='NNPS'):\n",
    "            CountrNouns+=j\n",
    "    if(Total!=0):\n",
    "        return ((CountrNouns*100) / Total)\n",
    "    else:\n",
    "        return 0\n",
    "\n",
    "def POSTaggerVerbs(text):\n",
    "    CountVerbs=0.0\n",
    "    Total=0\n",
    "    lower_case = text.lower()\n",
    "    tokens = word_tokenize(lower_case)\n",
    "    tags = pos_tag(tokens)\n",
    "    counts = Counter( tag for word, tag in tags)\n",
    "    for i, j in counts.items():\n",
    "        Total+=j\n",
    "        if(i=='VB' or i=='VBD' or i=='VBG' or i=='VBN' or i=='VBP' or i=='VBZ'):\n",
    "            CountVerbs+=j\n",
    "    if(Total!=0):\n",
    "        return ((CountVerbs*100) / Total)\n",
    "    else:\n",
    "        return 0\n",
    "\n",
    "def POSTaggerAdjectives(text):\n",
    "    CountAdjectives=0\n",
    "    Total=0\n",
    "    lower_case = text.lower()\n",
    "    tokens = word_tokenize(lower_case)\n",
    "    tags = pos_tag(tokens)\n",
    "    counts = Counter( tag for word, tag in tags)\n",
    "    for i, j in counts.items():\n",
    "        Total+=j\n",
    "        if(i=='JJ' or i=='JJR' or i=='JJS'):\n",
    "            CountAdjectives+=j\n",
    "    if(Total!=0):\n",
    "        return ((CountAdjectives*100) / Total)\n",
    "    else:\n",
    "        return 0\n",
    "    \n",
    "tmpTrain[\"POSTagger\"] = tmpTrain['Comment'].apply(POSTagger)\n",
    "tmpTrain['fractionAdverbs'] = tmpTrain['Comment'].apply(POSTaggerAdverbs)\n",
    "tmpTrain['fractionVerbs'] = tmpTrain['Comment'].apply(POSTaggerVerbs)\n",
    "tmpTrain['fractionAdjectives'] = tmpTrain['Comment'].apply(POSTaggerAdjectives)\n",
    "tmpTrain['fractionNouns'] = tmpTrain['Comment'].apply(POSTaggerNouns)\n",
    "\n",
    "tmpVerification[\"POSTagger\"] = tmpVerification['Comment'].apply(POSTagger)\n",
    "tmpVerification['fractionAdverbs'] = tmpVerification['Comment'].apply(POSTaggerAdverbs)\n",
    "tmpVerification['fractionVerbs'] = tmpVerification['Comment'].apply(POSTaggerVerbs)\n",
    "tmpVerification['fractionAdjectives'] = tmpVerification['Comment'].apply(POSTaggerAdjectives)\n",
    "tmpVerification['fractionNouns'] = tmpVerification['Comment'].apply(POSTaggerNouns)\n",
    "\n",
    "tmpTrain.head()"
   ]
  },
  {
   "cell_type": "markdown",
   "metadata": {},
   "source": [
    "# SVM and RDF on TFIDF and POS combined."
   ]
  },
  {
   "cell_type": "markdown",
   "metadata": {},
   "source": [
    "Combine Features."
   ]
  },
  {
   "cell_type": "code",
   "execution_count": 20,
   "metadata": {},
   "outputs": [],
   "source": [
    "mapper = DataFrameMapper([\n",
    "     ('Paired', CountVectorizer()),\n",
    "     ('Comment', TfidfVectorizer(min_df = 5, max_df = 0.95, max_features = 8000, stop_words = 'english')),\n",
    "#      ('TFIDF', None)\n",
    " ])\n",
    "\n",
    "tmp_train = tmpTrain[['Comment', 'Paired', 'TFIDF', 'Insult']][:100]\n",
    "tmp_test = tmpVerification[['Comment', 'Paired', 'TFIDF', 'Insult']][:100]\n",
    "\n",
    "mapper.fit(tmp_train)\n",
    "features = mapper.transform(tmp_train)\n",
    "unknown = mapper.transform(tmp_test)"
   ]
  },
  {
   "cell_type": "markdown",
   "metadata": {},
   "source": [
    "SVM."
   ]
  },
  {
   "cell_type": "code",
   "execution_count": 21,
   "metadata": {},
   "outputs": [
    {
     "name": "stdout",
     "output_type": "stream",
     "text": [
      "SVM Accuracy Score ->  61.0\n",
      "SVM F1-Score ->  54.00400990682864\n"
     ]
    }
   ],
   "source": [
    "SVMex(features, tmp_train['Insult'], unknown, tmp_test['Insult'])"
   ]
  },
  {
   "cell_type": "markdown",
   "metadata": {},
   "source": [
    "RDF."
   ]
  },
  {
   "cell_type": "code",
   "execution_count": 22,
   "metadata": {},
   "outputs": [
    {
     "name": "stdout",
     "output_type": "stream",
     "text": [
      "RDF Accuracy Score ->  56.00000000000001\n",
      "RDF F1-Score ->  35.8974358974359\n"
     ]
    },
    {
     "data": {
      "image/png": "[encoded data removed]",
      "text/plain": [
       "<Figure size 1080x720 with 1 Axes>"
      ]
     },
     "metadata": {
      "needs_background": "light"
     },
     "output_type": "display_data"
    }
   ],
   "source": [
    "Test_Y_Random_Forests2 = tmp_test['Insult']\n",
    "RandomF(features, tmp_train['Insult'], unknown, tmp_test['Insult'], Test_Y_Random_Forests2)"
   ]
  }
 ],
 "metadata": {
  "kernelspec": {
   "display_name": "Python 3",
   "language": "python",
   "name": "python3"
  },
  "language_info": {
   "codemirror_mode": {
    "name": "ipython",
    "version": 3
   },
   "file_extension": ".py",
   "mimetype": "text/x-python",
   "name": "python",
   "nbconvert_exporter": "python",
   "pygments_lexer": "ipython3",
   "version": "3.7.6"
  }
 },
 "nbformat": 4,
 "nbformat_minor": 4
}
